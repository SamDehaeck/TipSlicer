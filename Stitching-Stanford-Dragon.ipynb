{
 "cells": [
  {
   "cell_type": "markdown",
   "metadata": {},
   "source": [
    "In this notebook, we demonstrate how to slice an stl-file into a gwl file including 3D stitching. The main difficulty so far with slicing STL files is that I have not found an easy way to slice it block by block. I need to create a stack for the full figure first, possibly with a lower resolution (for reducing the storage requirements). After this lowres stack is made, I can then make small sub-blocks using the low-res version to guide me in the assignement of where the material is located. \n",
    "\n",
    "In this notebook, we also demonstrate how to do the block ordering when the object spans multiple Z-ranges. If Concorde is not available this could be done with the nearest neighbour code as well, but I have not implemented it yet.\n",
    "\n",
    "There is one big issue with the resulting GWL-file though: it does not print correctly! Describe puts the higher blocks at the correct height, but when writing with Nanoscribe, everything is printed in the same plane.. => Need to debug this!"
   ]
  },
  {
   "cell_type": "code",
   "execution_count": 1,
   "metadata": {},
   "outputs": [
    {
     "name": "stdout",
     "output_type": "stream",
     "text": [
      "Using matplotlib backend: Qt5Agg\n",
      "Populating the interactive namespace from numpy and matplotlib\n"
     ]
    }
   ],
   "source": [
    "%pylab"
   ]
  },
  {
   "cell_type": "code",
   "execution_count": 2,
   "metadata": {
    "collapsed": true
   },
   "outputs": [],
   "source": [
    "import TipSlicer\n",
    "import os\n",
    "import scipy.ndimage as im\n",
    "from importlib import reload\n",
    "import tables"
   ]
  },
  {
   "cell_type": "code",
   "execution_count": 3,
   "metadata": {},
   "outputs": [
    {
     "name": "stdout",
     "output_type": "stream",
     "text": [
      "X: -710 -> 710  Y: 177 -> 817  Z: 0.0 -> 972.0\n",
      "(641, 1421) (641, 1421) (973,)\n"
     ]
    }
   ],
   "source": [
    "# load STL mesh and get X,Y, Z range\n",
    "stlName='StanfordDragonBinary.stl'\n",
    "rootName='StanfordDragon'\n",
    "\n",
    "lowresSlicing=1\n",
    "lowresHashing=1\n",
    "\n",
    "mesh,Zmins,Zmaxs=TipSlicer.loadStl(stlName,centred=False,mulDimension=100)\n",
    "X,Y,Z=TipSlicer.getMeshXYZ(mesh,lowresHashing,lowresSlicing)\n",
    "print('X: {} -> {}  Y: {} -> {}  Z: {} -> {}'.format(X[0].min(),X[0].max(),Y[:,0].min(),Y[:,0].max(),Z.min(),Z.max()))\n",
    "print(X.shape,Y.shape,Z.shape)\n",
    "\n"
   ]
  },
  {
   "cell_type": "code",
   "execution_count": 5,
   "metadata": {},
   "outputs": [
    {
     "data": {
      "text/plain": [
       "(969.13324, 970.85333, 0.0)"
      ]
     },
     "execution_count": 5,
     "metadata": {},
     "output_type": "execute_result"
    }
   ],
   "source": [
    "Zmins.max(),Zmaxs.max(),Zmins.min()"
   ]
  },
  {
   "cell_type": "code",
   "execution_count": 4,
   "metadata": {
    "collapsed": true
   },
   "outputs": [],
   "source": [
    "# Do a first low resolution full scale stack with a correct infill\n",
    "lowresH5=rootName+'_lowres.h5'\n",
    "TipSlicer.stlToStack(mesh,lowresH5,X,Y,Z,Zmins,Zmaxs)"
   ]
  },
  {
   "cell_type": "code",
   "execution_count": null,
   "metadata": {
    "collapsed": true
   },
   "outputs": [],
   "source": []
  },
  {
   "cell_type": "code",
   "execution_count": null,
   "metadata": {
    "collapsed": true
   },
   "outputs": [],
   "source": []
  },
  {
   "cell_type": "code",
   "execution_count": 29,
   "metadata": {},
   "outputs": [
    {
     "name": "stdout",
     "output_type": "stream",
     "text": [
      "4 243.0\n"
     ]
    }
   ],
   "source": [
    "FOVrad=150  # more or less standard value but should be input\n",
    "FOVz=300\n",
    "overlapZ=2\n",
    "\n",
    "amZ=int((Z.max()-Z.min())/FOVz)+1\n",
    "Zrange=(Z.max()-Z.min())/amZ\n",
    "print(amZ,Zrange)\n",
    "\n",
    "# loop over different Z-slices\n",
    "centreCoords=[]\n",
    "for k in range(amZ):\n",
    "    Zstart=k*Zrange\n",
    "    Zstop=(k+1)*Zrange+overlapZ\n",
    "\n",
    "    # now get low-resolution projection figures for this Z-range\n",
    "    Ground,X,Y=TipSlicer.getProjection(lowresH5,Zstart,Zstop)\n",
    "\n",
    "    # doOptimalStitching or hexagonal/square and find blockcentres\n",
    "    optPoints=TipSlicer.getOptimalStitchCentres(Ground,FOVrad,FOVrad,X,Y)\n",
    "\n",
    "    centreCoords.append(np.column_stack((optPoints,np.ones(len(optPoints))*Zstart)))\n"
   ]
  },
  {
   "cell_type": "code",
   "execution_count": 30,
   "metadata": {},
   "outputs": [
    {
     "name": "stdout",
     "output_type": "stream",
     "text": [
      "concorde -o tsp.sol blocks.tsp\n",
      "Host: lapsam  Current process id: 6908\n",
      "Using random seed 1510664436\n",
      "Problem Name: blocks\n",
      "Problem Type: TSP\n",
      "Nanoscribe Blocks in Ham Path\n",
      "Number of Nodes: 46\n",
      "Explicit Lengths (CC_MATRIXNORM)\n",
      "Set initial upperbound to 738618 (from tour)\n",
      "  LP Value  1: 10358.500000  (0.01 seconds)\n",
      "  LP Value  2: 738601.000000  (0.01 seconds)\n",
      "  LP Value  3: 738615.500000  (0.03 seconds)\n",
      "New lower bound: 738615.500000\n",
      "Final lower bound 738615.500000, upper bound 738618.000000\n",
      "Exact lower bound: 738615.500000\n",
      "DIFF: 0.000000\n",
      "Time for Total: 0.08 seconds (0.08 total in 1 calls)\n",
      "Final LP has 65 rows, 81 columns, 273 nonzeros\n",
      "LOWER BOUND: 738615.500000   ACTIVE NODES: 1\n",
      "\n",
      "Task 0: Branching on node 0\n",
      "infeas_recover ...\n",
      "phase 1 addbad_variables\n",
      "Could not recover a feasible LP\n",
      "Branched-LP is infeasible\n",
      "phase 1 pricing\n",
      "Problem is shown to be infeasible\n",
      "BBnode 0 split into 1 (1000000000000000019884624838656.00X) 2 (738623.00X) (0.03 seconds)\n",
      "Child 0 is infeasible\n",
      "Child 1 is pruned\n",
      "\n",
      "Task 1: Exit\n",
      "Optimal Solution: 738618.00\n",
      "Number of bbnodes: 3\n",
      "Total Running Time: 0.16 (seconds)  Branching Time: 0.03 (seconds)\n"
     ]
    }
   ],
   "source": [
    "Zgrower=1000\n",
    "newPPlist=[]\n",
    "for cc in centreCoords:\n",
    "    newPPlist.extend(cc*np.array([1,1,Zgrower]))\n",
    "newPP=np.asarray(newPPlist)\n",
    "\n",
    "TipSlicer.writeTSPfile('blocks.tsp',newPP)\n",
    "!concorde -o 'tsp.sol' 'blocks.tsp'\n",
    "Ord=TipSlicer.readTSPfile('tsp.sol')\n",
    "ord3DCentres=(newPP[Ord]*np.array([1,1,1/Zgrower]))\n",
    "\n",
    "if (ord3DCentres[0,2]>ord3DCentres[-1,2]):\n",
    "    ord3DCentres=ord3DCentres[::-1]"
   ]
  },
  {
   "cell_type": "code",
   "execution_count": 31,
   "metadata": {},
   "outputs": [
    {
     "data": {
      "text/plain": [
       "(45, 3)"
      ]
     },
     "execution_count": 31,
     "metadata": {},
     "output_type": "execute_result"
    }
   ],
   "source": [
    "ord3DCentres.shape"
   ]
  },
  {
   "cell_type": "code",
   "execution_count": 9,
   "metadata": {},
   "outputs": [
    {
     "data": {
      "text/plain": [
       "[<matplotlib.lines.Line2D at 0x7feede781f98>]"
      ]
     },
     "execution_count": 9,
     "metadata": {},
     "output_type": "execute_result"
    }
   ],
   "source": [
    "clf()\n",
    "scatter(ord3DCentres[:,0],ord3DCentres[:,1],s=ord3DCentres[:,2])\n",
    "plot(ord3DCentres[:,0],ord3DCentres[:,1],'r-')"
   ]
  },
  {
   "cell_type": "code",
   "execution_count": 34,
   "metadata": {},
   "outputs": [
    {
     "data": {
      "text/plain": [
       "[<matplotlib.lines.Line2D at 0x7feedcaac668>]"
      ]
     },
     "execution_count": 34,
     "metadata": {},
     "output_type": "execute_result"
    }
   ],
   "source": [
    "clf()\n",
    "#scatter(ord3DCentres[:,0],ord3DCentres[:,1],s=ord3DCentres[:,2])\n",
    "plot(ord3DCentres[:,0],ord3DCentres[:,2],'r.-')"
   ]
  },
  {
   "cell_type": "markdown",
   "metadata": {},
   "source": [
    "# now continue creating blocks"
   ]
  },
  {
   "cell_type": "code",
   "execution_count": 43,
   "metadata": {},
   "outputs": [
    {
     "data": {
      "text/plain": [
       "array([   0.,  243.,  486.,  729.])"
      ]
     },
     "execution_count": 43,
     "metadata": {},
     "output_type": "execute_result"
    }
   ],
   "source": [
    "zstacks=np.unique(ord3DCentres[:,2])\n",
    "zstacks"
   ]
  },
  {
   "cell_type": "code",
   "execution_count": 57,
   "metadata": {
    "collapsed": true
   },
   "outputs": [],
   "source": [
    "stackI=np.argwhere(np.abs(ord3DCentres[:,2]-243)<1)[:,0]\n",
    "optPoints=ord3DCentres[stackI,:2]"
   ]
  },
  {
   "cell_type": "code",
   "execution_count": 58,
   "metadata": {},
   "outputs": [
    {
     "data": {
      "text/plain": [
       "(11, 2)"
      ]
     },
     "execution_count": 58,
     "metadata": {},
     "output_type": "execute_result"
    }
   ],
   "source": [
    "optPoints=ord3DCentres[stackI,:2]\n",
    "optPoints.shape"
   ]
  },
  {
   "cell_type": "code",
   "execution_count": 18,
   "metadata": {
    "collapsed": true
   },
   "outputs": [],
   "source": [
    "rootName='StanfordDragonNew'"
   ]
  },
  {
   "cell_type": "code",
   "execution_count": 20,
   "metadata": {
    "scrolled": true
   },
   "outputs": [
    {
     "name": "stdout",
     "output_type": "stream",
     "text": [
      "Writing block 0 in layer 0\n",
      "Writing block 1 in layer 0\n",
      "Writing block 2 in layer 0\n",
      "Writing block 3 in layer 0\n",
      "Writing block 4 in layer 0\n",
      "Writing block 5 in layer 0\n",
      "Writing block 6 in layer 0\n",
      "Writing block 7 in layer 0\n",
      "Writing block 8 in layer 0\n",
      "Writing block 9 in layer 0\n",
      "Writing block 10 in layer 0\n",
      "Writing block 11 in layer 0\n",
      "Writing block 12 in layer 0\n",
      "Writing block 13 in layer 0\n",
      "Writing block 0 in layer 1\n",
      "Writing block 1 in layer 1\n",
      "Writing block 2 in layer 1\n",
      "Writing block 3 in layer 1\n",
      "Writing block 4 in layer 1\n",
      "Writing block 5 in layer 1\n",
      "Writing block 6 in layer 1\n",
      "Writing block 7 in layer 1\n",
      "Writing block 8 in layer 1\n",
      "Writing block 9 in layer 1\n",
      "Writing block 10 in layer 1\n",
      "Writing block 0 in layer 2\n",
      "Writing block 1 in layer 2\n",
      "Writing block 2 in layer 2\n",
      "Writing block 3 in layer 2\n",
      "Writing block 4 in layer 2\n",
      "Writing block 5 in layer 2\n",
      "Writing block 6 in layer 2\n",
      "Writing block 7 in layer 2\n",
      "Writing block 8 in layer 2\n",
      "Writing block 9 in layer 2\n",
      "Writing block 10 in layer 2\n",
      "Writing block 11 in layer 2\n",
      "Writing block 0 in layer 3\n",
      "Writing block 1 in layer 3\n",
      "Writing block 2 in layer 3\n",
      "Writing block 3 in layer 3\n",
      "Writing block 4 in layer 3\n",
      "Writing block 5 in layer 3\n",
      "Writing block 6 in layer 3\n",
      "Writing block 7 in layer 3\n"
     ]
    }
   ],
   "source": [
    "# write the stacks for the different stitching blocks, will convert these to gwl later.\n",
    "\n",
    "slicing=1\n",
    "\n",
    "hashing=1\n",
    "overlapXY_multiplier=3 # Final overlap will be 2 times this multiplied with hashing\n",
    "\n",
    "if (not os.path.exists(rootName)):\n",
    "    os.mkdir(rootName)\n",
    "genBlockName=rootName+'/'+rootName+'Block-Layer {:05d} - nr {:05d}.h5'\n",
    "genGwlName=rootName+'/'+rootName+'Block-Layer {:05d} - nr {:05d}.gwl'\n",
    "genRegex=rootName+'/.+gwl'\n",
    "lowresH5='StanfordDragon_lowres.h5'\n",
    "\n",
    "\n",
    "# now creates the stacks\n",
    "zstacks=np.unique(ord3DCentres[:,2])\n",
    "\n",
    "\n",
    "\n",
    "for k in np.arange(len(zstacks)):\n",
    "    Zstart=zstacks[k]\n",
    "    Zstop=Zstart+Zrange\n",
    "    zz=np.arange(Zstart,Zstop+slicing,slicing)\n",
    "    sliceIndList= np.arange(len(zz))# adapt for variable slicing\n",
    "\n",
    "    stackI=np.argwhere(np.abs(ord3DCentres[:,2]-Zstart)<1)[:,0]\n",
    "    optPoints=ord3DCentres[stackI,:2]\n",
    "    # generate voronoi polygons\n",
    "    regions, vertices = TipSlicer.makeVoronoiPolygons(optPoints)\n",
    "\n",
    "    # do loop over blocks and write out the stacks (needs stl and low-res stack) \n",
    "    #                                        => CAN I USE formulaToStack and give stl-name and low-res stack as parameters??\n",
    "    fullDist=[]\n",
    "    zCentres=[]\n",
    "    for i in np.arange(len(optPoints)):\n",
    "#    for i in np.arange(2):\n",
    "        # now make coordinate systems\n",
    "        print('Writing block {} in layer {}'.format(i,k))\n",
    "        xc=optPoints[i,0]\n",
    "        yc=optPoints[i,1]\n",
    "\n",
    "        polygon = vertices[regions[i]]\n",
    "\n",
    "        am=np.int(np.round(2*FOVrad/hashing))+1\n",
    "        xx=np.linspace(xc-FOVrad,xc+FOVrad,am)\n",
    "        yy=np.linspace(yc-FOVrad,yc+FOVrad,am)\n",
    "        Xloc,Yloc=np.meshgrid(xx,yy)\n",
    "\n",
    "        MM=TipSlicer.makeVoronoiMask(polygon,Xloc,Yloc)\n",
    "        # if you need overlap, do binary_dilation on the mask\n",
    "        MM=im.binary_dilation(MM,iterations=overlapXY_multiplier) # overlap = 2*iterations*hatching\n",
    "\n",
    "        # with these coordinate systems, apply stlToStack\n",
    "        blockName=genBlockName.format(k,i)\n",
    "\n",
    "        TipSlicer.stlToStack(mesh,blockName,Xloc,Yloc,zz[sliceIndList],Zmins,Zmaxs,inFillMaster=lowresH5,writingMask=MM)"
   ]
  },
  {
   "cell_type": "code",
   "execution_count": 1,
   "metadata": {
    "scrolled": true
   },
   "outputs": [
    {
     "ename": "NameError",
     "evalue": "name 'rootName' is not defined",
     "output_type": "error",
     "traceback": [
      "\u001b[0;31m---------------------------------------------------------------------------\u001b[0m",
      "\u001b[0;31mNameError\u001b[0m                                 Traceback (most recent call last)",
      "\u001b[0;32m<ipython-input-1-b9b43d182aee>\u001b[0m in \u001b[0;36m<module>\u001b[0;34m()\u001b[0m\n\u001b[1;32m      1\u001b[0m \u001b[0;31m#now convert all hdf5-stacks to gwl-files.\u001b[0m\u001b[0;34m\u001b[0m\u001b[0;34m\u001b[0m\u001b[0m\n\u001b[1;32m      2\u001b[0m \u001b[0;34m\u001b[0m\u001b[0m\n\u001b[0;32m----> 3\u001b[0;31m \u001b[0mh5Regex\u001b[0m\u001b[0;34m=\u001b[0m\u001b[0mrootName\u001b[0m\u001b[0;34m+\u001b[0m\u001b[0;34m'/.+\\d\\.h5'\u001b[0m \u001b[0;31m# should end in a digit, so as to avoid taking the _col.h5 files..\u001b[0m\u001b[0;34m\u001b[0m\u001b[0m\n\u001b[0m\u001b[1;32m      4\u001b[0m                              \u001b[0;31m# alternatively, I could take them, and just reject upon inspection of the h5 file..\u001b[0m\u001b[0;34m\u001b[0m\u001b[0;34m\u001b[0m\u001b[0m\n\u001b[1;32m      5\u001b[0m \u001b[0mfullGwlName\u001b[0m\u001b[0;34m=\u001b[0m\u001b[0mrootName\u001b[0m\u001b[0;34m+\u001b[0m\u001b[0;34m'.gwl'\u001b[0m\u001b[0;34m\u001b[0m\u001b[0m\n",
      "\u001b[0;31mNameError\u001b[0m: name 'rootName' is not defined"
     ]
    }
   ],
   "source": [
    "#now convert all hdf5-stacks to gwl-files.\n",
    "\n",
    "h5Regex=rootName+'/.+\\d\\.h5' # should end in a digit, so as to avoid taking the _col.h5 files..\n",
    "                             # alternatively, I could take them, and just reject upon inspection of the h5 file..\n",
    "fullGwlName=rootName+'.gwl'\n",
    "\n",
    "amShells=0\n",
    "ScaffStep=2 # for solid infill => 2*hatching is spacing here\n",
    "hatchStep=1 # for contour distance and top-bottom infill, not used if amShells==1 and doTopBottom=False\n",
    "\n",
    "doColourH5=False\n",
    "\n",
    "\n",
    "fp=os.path.split(h5Regex)\n",
    "if (fp[0]==''):\n",
    "    fnames,fnumbs=TipSlicer.findFiles(h5Regex)\n",
    "else:\n",
    "    fnames,fnumbs=TipSlicer.findFiles(fp[1],fp[0])\n",
    "\n",
    "for ff in fnames:\n",
    "    # should decide on the sliceIndList here. It could differ from the stack, but this is difficult to determine here\n",
    "    # especially if it needs to be in Z => which Z's are we doing here? Unknown in advance.\n",
    "    gwlName=ff[:-3]+'.gwl'\n",
    "    print('Writing gwl: {}'.format(gwlName))\n",
    "    dists=TipSlicer.stackToGwl(ff,gwlName,amShells,ScaffStep,hatchStep\n",
    "                               ,atAngles=-1,writeHeader=False,writeColourH5=doColourH5,doTopBottom=True)\n",
    "\n",
    "if (len(dists)>0):\n",
    "    if (len(fullDist)==0):\n",
    "        fullDist=dists\n",
    "    else:\n",
    "        fullDist=fullDist+dists\n",
    "\n",
    "# Write out regex-gwl to follow this path.\n",
    "TipSlicer.writeGwlForRegex(fullGwlName,genRegex)#,CodeSpeeds,CodeIntensities)"
   ]
  },
  {
   "cell_type": "code",
   "execution_count": null,
   "metadata": {
    "collapsed": true
   },
   "outputs": [],
   "source": []
  },
  {
   "cell_type": "code",
   "execution_count": null,
   "metadata": {
    "collapsed": true
   },
   "outputs": [],
   "source": []
  },
  {
   "cell_type": "code",
   "execution_count": null,
   "metadata": {
    "collapsed": true
   },
   "outputs": [],
   "source": []
  }
 ],
 "metadata": {
  "kernelspec": {
   "display_name": "Python 3",
   "language": "python",
   "name": "python3"
  },
  "language_info": {
   "codemirror_mode": {
    "name": "ipython",
    "version": 3
   },
   "file_extension": ".py",
   "mimetype": "text/x-python",
   "name": "python",
   "nbconvert_exporter": "python",
   "pygments_lexer": "ipython3",
   "version": "3.6.3"
  }
 },
 "nbformat": 4,
 "nbformat_minor": 2
}

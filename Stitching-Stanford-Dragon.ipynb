{
 "cells": [
  {
   "cell_type": "code",
   "execution_count": 1,
   "metadata": {},
   "outputs": [
    {
     "name": "stdout",
     "output_type": "stream",
     "text": [
      "Populating the interactive namespace from numpy and matplotlib\n"
     ]
    }
   ],
   "source": [
    "%pylab qt5"
   ]
  },
  {
   "cell_type": "code",
   "execution_count": 2,
   "metadata": {
    "collapsed": true
   },
   "outputs": [],
   "source": [
    "import TipSlicer\n",
    "import os\n",
    "import scipy.ndimage as im\n",
    "from importlib import reload\n",
    "import tables"
   ]
  },
  {
   "cell_type": "code",
   "execution_count": 3,
   "metadata": {},
   "outputs": [
    {
     "name": "stdout",
     "output_type": "stream",
     "text": [
      "X: -710 -> 710  Y: -320 -> 320  Z: 0.0 -> 972.0\n",
      "(641, 1421) (641, 1421) (973,)\n"
     ]
    }
   ],
   "source": [
    "# load STL mesh and get X,Y, Z range\n",
    "stlName='/home/sam/ULB/Notebooks/TipSlicer/StanfordDragonBinary.stl'\n",
    "rootName='StanfordDragon'\n",
    "\n",
    "lowresSlicing=1\n",
    "lowresHashing=1\n",
    "\n",
    "mesh,Zmins,Zmaxs=TipSlicer.loadStl(stlName,centred=True,mulDimension=100)\n",
    "X,Y,Z=TipSlicer.getMeshXYZ(mesh,lowresHashing,lowresSlicing)\n",
    "print('X: {} -> {}  Y: {} -> {}  Z: {} -> {}'.format(X[0].min(),X[0].max(),Y[:,0].min(),Y[:,0].max(),Z.min(),Z.max()))\n",
    "print(X.shape,Y.shape,Z.shape)\n",
    "\n"
   ]
  },
  {
   "cell_type": "code",
   "execution_count": 4,
   "metadata": {},
   "outputs": [
    {
     "data": {
      "text/plain": [
       "(969.13324, 970.85333)"
      ]
     },
     "execution_count": 4,
     "metadata": {},
     "output_type": "execute_result"
    }
   ],
   "source": [
    "Zmins.max(),Zmaxs.max()"
   ]
  },
  {
   "cell_type": "code",
   "execution_count": 14,
   "metadata": {
    "collapsed": true
   },
   "outputs": [],
   "source": [
    "# Do a first low resolution full scale stack with a correct infill\n",
    "lowresH5=rootName+'_lowres.h5'\n",
    "TipSlicer.stlToStack(mesh,lowresH5,X,Y,Z,Zmins,Zmaxs)"
   ]
  },
  {
   "cell_type": "code",
   "execution_count": null,
   "metadata": {
    "collapsed": true
   },
   "outputs": [],
   "source": []
  },
  {
   "cell_type": "code",
   "execution_count": 18,
   "metadata": {
    "scrolled": true
   },
   "outputs": [
    {
     "name": "stdout",
     "output_type": "stream",
     "text": [
      "X: -710 - 710  Y: -320 - 320  Z: 0.0 - 972.0\n",
      "(641, 1421) (641, 1421) (973,)\n",
      "Printing will take +- 0.00 hours\n",
      "CPU times: user 7min 34s, sys: 314 ms, total: 7min 34s\n",
      "Wall time: 7min 34s\n"
     ]
    }
   ],
   "source": [
    "%%%time\n",
    "overlapZ=2\n",
    "overlapXY_multiplier=3 # Final overlap will be 2 times this multiplied with hashing\n",
    "slicing=1\n",
    "hashing=1\n",
    "amShells=1\n",
    "ScaffStep=2 # for solid infill => 2*hatching is spacing here\n",
    "hatchStep=1 # for contour distance and top-bottom infill, not used if amShells==1 and doTopBottom=False\n",
    "\n",
    "\n",
    "FOVrad=150  # more or less standard value but should be input\n",
    "FOVz=300\n",
    "\n",
    "\n",
    "lowresSlicing=1 # should try to get an automatic estimate for this based on largest workable matrix\n",
    "lowresHashing=1\n",
    "\n",
    "CodeSpeeds=np.ones(3)*30000     # should just use any value. Will be adjusted manually in the end\n",
    "CodeIntensities=np.ones(3)*80\n",
    "\n",
    "doGwl=True\n",
    "doStack=False\n",
    "doLowRes=False\n",
    "doColourH5=False\n",
    "\n",
    "\n",
    "if (not os.path.exists(rootName)):\n",
    "    os.mkdir(rootName)\n",
    "genBlockName=rootName+'/'+rootName+'Block-Layer {:05d} - nr {:05d}.h5'\n",
    "genGwlName=rootName+'/'+rootName+'Block-Layer {:05d} - nr {:05d}.gwl'\n",
    "genRegex=rootName+'/.+gwl'\n",
    "h5Regex=rootName+'/.+\\d\\.h5' # should end in a digit, so as to avoid taking the _col.h5 files..\n",
    "                             # alternatively, I could take them, and just reject upon inspection of the h5 file..\n",
    "fullGwlName=rootName+'.gwl'\n",
    "lowresH5=rootName+'_lowres.h5'\n",
    "\n",
    "\n",
    "# load STL mesh and get X,Y, Z range\n",
    "mesh,Zmins,Zmaxs=TipSlicer.loadStl(stlName,centred=True,mulDimension=100)\n",
    "X,Y,Z=TipSlicer.getMeshXYZ(mesh,lowresHashing,lowresSlicing)\n",
    "print('X: {} - {}  Y: {} - {}  Z: {} - {}'.format(X[0].min(),X[0].max(),Y[:,0].min(),Y[:,0].max(),Z.min(),Z.max()))\n",
    "print(X.shape,Y.shape,Z.shape)\n",
    "\n",
    "# Do a first low resolution full scale stack with a correct infill\n",
    "if (doLowRes):\n",
    "    TipSlicer.stlToStack(mesh,lowresH5,X,Y,Z,Zmins,Zmaxs)\n",
    "\n",
    "if (doStack):\n",
    "    # calculate/decide on Zrange for stitching (smallest integer number depending on FovZ and Zmax)\n",
    "    amZ=int((Z.max()-Z.min())/FOVz)+1\n",
    "    Zrange=(Z.max()-Z.min())/amZ\n",
    "    print(amZ,Zrange)\n",
    "\n",
    "    # loop over different Z-slices\n",
    "    centreCoords=[]\n",
    "    for k in range(amZ):\n",
    "        Zstart=k*Zrange\n",
    "        Zstop=(k+1)*Zrange+overlapZ\n",
    "        zz=np.arange(Zstart,Zstop+slicing,slicing)\n",
    "        sliceIndList= np.arange(len(zz))# adapt for variable slicing\n",
    "\n",
    "        # now get low-resolution projection figures for this Z-range\n",
    "        Ground,X,Y=TipSlicer.getProjection(lowresH5,Zstart,Zstop)\n",
    "\n",
    "        # doOptimalStitching or hexagonal/square and find blockcentres\n",
    "        optPoints=TipSlicer.getOptimalStitchCentres(Ground,FOVrad,FOVrad,X,Y)\n",
    "\n",
    "        centreCoords.append(np.column_stack((optPoints,np.ones(len(optPoints))*Zstart)))\n",
    "\n",
    "\n",
    "    # now try to order the points for optimal trajectory\n",
    "    # do this before making the blocks so that you could implement a slant angle in the right direction..\n",
    "    # start with TSP per layer, never mind the connection\n",
    "    ordCentres=[]\n",
    "    for optPoints in centreCoords:\n",
    "        outPoint=np.zeros((len(optPoints),3),dtype=int)\n",
    "        outPoint[:,0]=np.arange(len(optPoints)).astype(int)\n",
    "        outPoint[:,1]=optPoints[:,0].astype(int)\n",
    "        outPoint[:,2]=optPoints[:,1].astype(int)\n",
    "        savetxt('myTest.txt',outPoint,fmt='%d')\n",
    "        !./tsp myTest.txt\n",
    "        TT=np.loadtxt('mysolution.txt')\n",
    "        TT=TT[1:]\n",
    "        ordOptPoints=outPoint[TT.astype(int),1:]\n",
    "        ordCentres.append(ordOptPoints)\n",
    "\n",
    "\n",
    "\n",
    "    # now creates the stacks\n",
    "    for k in range(amZ):\n",
    "        Zstart=k*Zrange\n",
    "        Zstop=(k+1)*Zrange+overlapZ\n",
    "        zz=np.arange(Zstart,Zstop+slicing,slicing)\n",
    "        sliceIndList= np.arange(len(zz))# adapt for variable slicing\n",
    "\n",
    "\n",
    "        optPoints=ordCentres[k][:,:2]\n",
    "        # generate voronoi polygons\n",
    "        regions, vertices = TipSlicer.makeVoronoiPolygons(optPoints)\n",
    "\n",
    "        # do loop over blocks and write out the stacks (needs stl and low-res stack) \n",
    "        #                                        => CAN I USE formulaToStack and give stl-name and low-res stack as parameters??\n",
    "        fullDist=[]\n",
    "        zCentres=[]\n",
    "        for i in np.arange(len(optPoints)):\n",
    "    #    for i in np.arange(2):\n",
    "            # now make coordinate systems\n",
    "            print('Writing block {} in layer {}'.format(i,k))\n",
    "            xc=optPoints[i,0]\n",
    "            yc=optPoints[i,1]\n",
    "\n",
    "            polygon = vertices[regions[i]]\n",
    "\n",
    "            am=np.int(np.round(2*FOVrad/hashing))+1\n",
    "            xx=np.linspace(xc-FOVrad,xc+FOVrad,am)\n",
    "            yy=np.linspace(yc-FOVrad,yc+FOVrad,am)\n",
    "            Xloc,Yloc=np.meshgrid(xx,yy)\n",
    "\n",
    "            MM=TipSlicer.makeVoronoiMask(polygon,Xloc,Yloc)\n",
    "            # if you need overlap, do binary_dilation on the mask\n",
    "            MM=im.binary_dilation(MM,iterations=overlapXY_multiplier) # overlap = 2*iterations*hatching\n",
    "\n",
    "            # with these coordinate systems, apply stlToStack\n",
    "            blockName=genBlockName.format(k,i)\n",
    "\n",
    "            TipSlicer.stlToStack(mesh,blockName,Xloc,Yloc,zz[sliceIndList],Zmins,Zmaxs,inFillMaster=lowresH5,writingMask=MM)\n",
    "        \n",
    "# and write the GWL's\n",
    "# this part is same as formula-based stitching\n",
    "if (doGwl):\n",
    "    fp=os.path.split(h5Regex)\n",
    "    if (fp[0]==''):\n",
    "        fnames,fnumbs=TipSlicer.findFiles(h5Regex)\n",
    "    else:\n",
    "        fnames,fnumbs=TipSlicer.findFiles(fp[1],fp[0])\n",
    "        \n",
    "    for ff in fnames:\n",
    "        # should decide on the sliceIndList here. It could differ from the stack, but this is difficult to determine here\n",
    "        # especially if it needs to be in Z => which Z's are we doing here? Unknown in advance.\n",
    "        gwlName=ff[:-3]+'.gwl'\n",
    "        dists=TipSlicer.stackToGwl(ff,gwlName,amShells,ScaffStep,hatchStep\n",
    "                                   ,writeHeader=False,atAngles=-1,writeColourH5=doColourH5,doTopBottom=False)\n",
    "    if (len(dists)>0):\n",
    "        if (len(fullDist)==0):\n",
    "            fullDist=dists\n",
    "        else:\n",
    "            fullDist=fullDist+dists\n",
    "    \n",
    "    # Write out regex-gwl to follow this path.\n",
    "    TipSlicer.writeGwlForRegex(fullGwlName,genRegex,CodeSpeeds,CodeIntensities)\n",
    "    writeTime=(fullDist/CodeSpeeds[:len(fullDist)]).sum()/3600.\n",
    "    print('Printing will take +- {:.2f} hours'.format(writeTime))\n",
    "\n",
    "\n",
    "\n",
    "\n"
   ]
  },
  {
   "cell_type": "code",
   "execution_count": 18,
   "metadata": {
    "scrolled": true
   },
   "outputs": [
    {
     "name": "stdout",
     "output_type": "stream",
     "text": [
      "X: -710 - 710  Y: -320 - 320  Z: 0.0 - 972.0\n",
      "(641, 1421) (641, 1421) (973,)\n",
      "Printing will take +- 0.00 hours\n",
      "CPU times: user 7min 34s, sys: 314 ms, total: 7min 34s\n",
      "Wall time: 7min 34s\n"
     ]
    }
   ],
   "source": [
    "%%%time\n",
    "overlapZ=2\n",
    "overlapXY_multiplier=3 # Final overlap will be 2 times this multiplied with hashing\n",
    "slicing=1\n",
    "hashing=1\n",
    "amShells=1\n",
    "ScaffStep=2 # for solid infill => 2*hatching is spacing here\n",
    "hatchStep=1 # for contour distance and top-bottom infill, not used if amShells==1 and doTopBottom=False\n",
    "\n",
    "\n",
    "FOVrad=150  # more or less standard value but should be input\n",
    "FOVz=300\n",
    "\n",
    "\n",
    "lowresSlicing=1 # should try to get an automatic estimate for this based on largest workable matrix\n",
    "lowresHashing=1\n",
    "\n",
    "CodeSpeeds=np.ones(3)*30000     # should just use any value. Will be adjusted manually in the end\n",
    "CodeIntensities=np.ones(3)*80\n",
    "\n",
    "doGwl=True\n",
    "doStack=False\n",
    "doLowRes=False\n",
    "doColourH5=False\n",
    "\n",
    "\n",
    "if (not os.path.exists(rootName)):\n",
    "    os.mkdir(rootName)\n",
    "genBlockName=rootName+'/'+rootName+'Block-Layer {:05d} - nr {:05d}.h5'\n",
    "genGwlName=rootName+'/'+rootName+'Block-Layer {:05d} - nr {:05d}.gwl'\n",
    "genRegex=rootName+'/.+gwl'\n",
    "h5Regex=rootName+'/.+\\d\\.h5' # should end in a digit, so as to avoid taking the _col.h5 files..\n",
    "                             # alternatively, I could take them, and just reject upon inspection of the h5 file..\n",
    "fullGwlName=rootName+'.gwl'\n",
    "lowresH5=rootName+'_lowres.h5'\n",
    "\n",
    "\n",
    "# load STL mesh and get X,Y, Z range\n",
    "mesh,Zmins,Zmaxs=FormulaSlicer.loadStl(stlName,centred=True,mulDimension=100)\n",
    "X,Y,Z=FormulaSlicer.getMeshXYZ(mesh,lowresHashing,lowresSlicing)\n",
    "print('X: {} - {}  Y: {} - {}  Z: {} - {}'.format(X[0].min(),X[0].max(),Y[:,0].min(),Y[:,0].max(),Z.min(),Z.max()))\n",
    "print(X.shape,Y.shape,Z.shape)\n",
    "\n",
    "# Do a first low resolution full scale stack with a correct infill\n",
    "if (doLowRes):\n",
    "    FormulaSlicer.stlToStack(mesh,lowresH5,X,Y,Z,Zmins,Zmaxs)\n",
    "\n",
    "if (doStack):\n",
    "    # calculate/decide on Zrange for stitching (smallest integer number depending on FovZ and Zmax)\n",
    "    amZ=int((Z.max()-Z.min())/FOVz)+1\n",
    "    Zrange=(Z.max()-Z.min())/amZ\n",
    "    print(amZ,Zrange)\n",
    "\n",
    "    # loop over different Z-slices\n",
    "    centreCoords=[]\n",
    "    for k in range(amZ):\n",
    "        Zstart=k*Zrange\n",
    "        Zstop=(k+1)*Zrange+overlapZ\n",
    "        zz=np.arange(Zstart,Zstop+slicing,slicing)\n",
    "        sliceIndList= np.arange(len(zz))# adapt for variable slicing\n",
    "\n",
    "        # now get low-resolution projection figures for this Z-range\n",
    "        Ground,X,Y=FormulaSlicer.getProjection(lowresH5,Zstart,Zstop)\n",
    "\n",
    "        # doOptimalStitching or hexagonal/square and find blockcentres\n",
    "        optPoints=FormulaSlicer.getOptimalStitchCentres(Ground,FOVrad,FOVrad,X,Y)\n",
    "\n",
    "        centreCoords.append(np.column_stack((optPoints,np.ones(len(optPoints))*Zstart)))\n",
    "\n",
    "\n",
    "    # now try to order the points for optimal trajectory\n",
    "    # do this before making the blocks so that you could implement a slant angle in the right direction..\n",
    "    # start with TSP per layer, never mind the connection\n",
    "    ordCentres=[]\n",
    "    for optPoints in centreCoords:\n",
    "        FormulaSlicer.writeTSPfile('blocks.tsp',optPoints[:,:2])\n",
    "        !concorde -o 'tsp.sol' 'blocks.tsp'\n",
    "        Ord=FormulaSlicer.readTSPfile('tsp.sol')\n",
    "        ordCentres.append(optPoints[Ord])\n",
    "        \n",
    "        \n",
    "    # now creates the stacks\n",
    "    for k in range(amZ):\n",
    "        Zstart=k*Zrange\n",
    "        Zstop=(k+1)*Zrange+overlapZ\n",
    "        zz=np.arange(Zstart,Zstop+slicing,slicing)\n",
    "        sliceIndList= np.arange(len(zz))# adapt for variable slicing\n",
    "\n",
    "\n",
    "        optPoints=ordCentres[k][:,:2]\n",
    "        # generate voronoi polygons\n",
    "        regions, vertices = FormulaSlicer.makeVoronoiPolygons(optPoints)\n",
    "\n",
    "        # do loop over blocks and write out the stacks (needs stl and low-res stack) \n",
    "        #                                        => CAN I USE formulaToStack and give stl-name and low-res stack as parameters??\n",
    "        fullDist=[]\n",
    "        zCentres=[]\n",
    "        for i in np.arange(len(optPoints)):\n",
    "    #    for i in np.arange(2):\n",
    "            # now make coordinate systems\n",
    "            print('Writing block {} in layer {}'.format(i,k))\n",
    "            xc=optPoints[i,0]\n",
    "            yc=optPoints[i,1]\n",
    "\n",
    "            polygon = vertices[regions[i]]\n",
    "\n",
    "            am=np.int(np.round(2*FOVrad/hashing))+1\n",
    "            xx=np.linspace(xc-FOVrad,xc+FOVrad,am)\n",
    "            yy=np.linspace(yc-FOVrad,yc+FOVrad,am)\n",
    "            Xloc,Yloc=np.meshgrid(xx,yy)\n",
    "\n",
    "            MM=FormulaSlicer.makeVoronoiMask(polygon,Xloc,Yloc)\n",
    "            # if you need overlap, do binary_dilation on the mask\n",
    "            MM=im.binary_dilation(MM,iterations=overlapXY_multiplier) # overlap = 2*iterations*hatching\n",
    "\n",
    "            # with these coordinate systems, apply stlToStack\n",
    "            blockName=genBlockName.format(k,i)\n",
    "\n",
    "            FormulaSlicer.stlToStack(mesh,blockName,Xloc,Yloc,zz[sliceIndList],Zmins,Zmaxs,inFillMaster=lowresH5,writingMask=MM)\n",
    "        \n",
    "# and write the GWL's\n",
    "# this part is same as formula-based stitching\n",
    "if (doGwl):\n",
    "    fp=os.path.split(h5Regex)\n",
    "    if (fp[0]==''):\n",
    "        fnames,fnumbs=FormulaSlicer.findFiles(h5Regex)\n",
    "    else:\n",
    "        fnames,fnumbs=FormulaSlicer.findFiles(fp[1],fp[0])\n",
    "        \n",
    "    for ff in fnames:\n",
    "        # should decide on the sliceIndList here. It could differ from the stack, but this is difficult to determine here\n",
    "        # especially if it needs to be in Z => which Z's are we doing here? Unknown in advance.\n",
    "        gwlName=ff[:-3]+'.gwl'\n",
    "        dists=FormulaSlicer.stackToGwl(ff,gwlName,amShells,ScaffStep,hatchStep\n",
    "                                   ,writeHeader=False,atAngles=-1,writeColourH5=doColourH5,doTopBottom=False)\n",
    "    if (len(dists)>0):\n",
    "        if (len(fullDist)==0):\n",
    "            fullDist=dists\n",
    "        else:\n",
    "            fullDist=fullDist+dists\n",
    "    \n",
    "    # Write out regex-gwl to follow this path.\n",
    "    FormulaSlicer.writeGwlForRegex(fullGwlName,genRegex,CodeSpeeds,CodeIntensities)\n",
    "    writeTime=(fullDist/CodeSpeeds[:len(fullDist)]).sum()/3600.\n",
    "    print('Printing will take +- {:.2f} hours'.format(writeTime))\n",
    "\n",
    "\n",
    "\n",
    "\n"
   ]
  },
  {
   "cell_type": "code",
   "execution_count": null,
   "metadata": {
    "collapsed": true
   },
   "outputs": [],
   "source": [
    "overlapZ=2\n",
    "overlapXY_multiplier=3 # Final overlap will be 2 times this multiplied with hashing\n",
    "slicing=1\n",
    "hashing=1\n",
    "amShells=1\n",
    "ScaffStep=2 # for solid infill => 2*hatching is spacing here\n",
    "hatchStep=1 # for contour distance and top-bottom infill, not used if amShells==1 and doTopBottom=False\n",
    "\n",
    "\n",
    "FOVrad=150  # more or less standard value but should be input\n",
    "FOVz=300\n",
    "\n",
    "\n",
    "lowresSlicing=1 # should try to get an automatic estimate for this based on largest workable matrix\n",
    "lowresHashing=1\n",
    "\n",
    "CodeSpeeds=np.ones(3)*30000     # should just use any value. Will be adjusted manually in the end\n",
    "CodeIntensities=np.ones(3)*80\n",
    "\n",
    "doGwl=True\n",
    "doStack=False\n",
    "doLowRes=False\n",
    "doColourH5=False\n",
    "\n",
    "\n",
    "if (not os.path.exists(rootName)):\n",
    "    os.mkdir(rootName)\n",
    "genBlockName=rootName+'/'+rootName+'Block-Layer {:05d} - nr {:05d}.h5'\n",
    "genGwlName=rootName+'/'+rootName+'Block-Layer {:05d} - nr {:05d}.gwl'\n",
    "genRegex=rootName+'/.+gwl'\n",
    "h5Regex=rootName+'/.+\\d\\.h5' # should end in a digit, so as to avoid taking the _col.h5 files..\n",
    "                             # alternatively, I could take them, and just reject upon inspection of the h5 file..\n",
    "fullGwlName=rootName+'.gwl'\n",
    "lowresH5=rootName+'_lowres.h5'\n",
    "\n",
    "\n",
    "# load STL mesh and get X,Y, Z range\n",
    "mesh,Zmins,Zmaxs=FormulaSlicer.loadStl(stlName,centred=True,mulDimension=100)\n",
    "X,Y,Z=FormulaSlicer.getMeshXYZ(mesh,lowresHashing,lowresSlicing)\n",
    "print('X: {} - {}  Y: {} - {}  Z: {} - {}'.format(X[0].min(),X[0].max(),Y[:,0].min(),Y[:,0].max(),Z.min(),Z.max()))\n",
    "print(X.shape,Y.shape,Z.shape)"
   ]
  },
  {
   "cell_type": "code",
   "execution_count": 5,
   "metadata": {},
   "outputs": [
    {
     "ename": "NameError",
     "evalue": "name 'FOVz' is not defined",
     "output_type": "error",
     "traceback": [
      "\u001b[0;31m---------------------------------------------------------------------------\u001b[0m",
      "\u001b[0;31mNameError\u001b[0m                                 Traceback (most recent call last)",
      "\u001b[0;32m<ipython-input-5-56bac4cfd3f6>\u001b[0m in \u001b[0;36m<module>\u001b[0;34m()\u001b[0m\n\u001b[0;32m----> 1\u001b[0;31m \u001b[0mamZ\u001b[0m\u001b[0;34m=\u001b[0m\u001b[0mint\u001b[0m\u001b[0;34m(\u001b[0m\u001b[0;34m(\u001b[0m\u001b[0mZ\u001b[0m\u001b[0;34m.\u001b[0m\u001b[0mmax\u001b[0m\u001b[0;34m(\u001b[0m\u001b[0;34m)\u001b[0m\u001b[0;34m-\u001b[0m\u001b[0mZ\u001b[0m\u001b[0;34m.\u001b[0m\u001b[0mmin\u001b[0m\u001b[0;34m(\u001b[0m\u001b[0;34m)\u001b[0m\u001b[0;34m)\u001b[0m\u001b[0;34m/\u001b[0m\u001b[0mFOVz\u001b[0m\u001b[0;34m)\u001b[0m\u001b[0;34m+\u001b[0m\u001b[0;36m1\u001b[0m\u001b[0;34m\u001b[0m\u001b[0m\n\u001b[0m\u001b[1;32m      2\u001b[0m \u001b[0mZrange\u001b[0m\u001b[0;34m=\u001b[0m\u001b[0;34m(\u001b[0m\u001b[0mZ\u001b[0m\u001b[0;34m.\u001b[0m\u001b[0mmax\u001b[0m\u001b[0;34m(\u001b[0m\u001b[0;34m)\u001b[0m\u001b[0;34m-\u001b[0m\u001b[0mZ\u001b[0m\u001b[0;34m.\u001b[0m\u001b[0mmin\u001b[0m\u001b[0;34m(\u001b[0m\u001b[0;34m)\u001b[0m\u001b[0;34m)\u001b[0m\u001b[0;34m/\u001b[0m\u001b[0mamZ\u001b[0m\u001b[0;34m\u001b[0m\u001b[0m\n\u001b[1;32m      3\u001b[0m \u001b[0mprint\u001b[0m\u001b[0;34m(\u001b[0m\u001b[0mamZ\u001b[0m\u001b[0;34m,\u001b[0m\u001b[0mZrange\u001b[0m\u001b[0;34m)\u001b[0m\u001b[0;34m\u001b[0m\u001b[0m\n\u001b[1;32m      4\u001b[0m \u001b[0;34m\u001b[0m\u001b[0m\n\u001b[1;32m      5\u001b[0m \u001b[0;31m# loop over different Z-slices\u001b[0m\u001b[0;34m\u001b[0m\u001b[0;34m\u001b[0m\u001b[0m\n",
      "\u001b[0;31mNameError\u001b[0m: name 'FOVz' is not defined"
     ]
    }
   ],
   "source": [
    "amZ=int((Z.max()-Z.min())/FOVz)+1\n",
    "Zrange=(Z.max()-Z.min())/amZ\n",
    "print(amZ,Zrange)\n",
    "\n",
    "# loop over different Z-slices\n",
    "centreCoords=[]\n",
    "for k in range(amZ):\n",
    "    Zstart=k*Zrange\n",
    "    Zstop=(k+1)*Zrange+overlapZ\n",
    "    zz=np.arange(Zstart,Zstop+slicing,slicing)\n",
    "    sliceIndList= np.arange(len(zz))# adapt for variable slicing\n",
    "\n",
    "    # now get low-resolution projection figures for this Z-range\n",
    "    Ground,X,Y=FormulaSlicer.getProjection(lowresH5,Zstart,Zstop)\n",
    "\n",
    "    # doOptimalStitching or hexagonal/square and find blockcentres\n",
    "    optPoints=FormulaSlicer.getOptimalStitchCentres(Ground,FOVrad,FOVrad,X,Y)\n",
    "\n",
    "    centreCoords.append(np.column_stack((optPoints,np.ones(len(optPoints))*Zstart)))\n"
   ]
  },
  {
   "cell_type": "code",
   "execution_count": 19,
   "metadata": {},
   "outputs": [
    {
     "data": {
      "text/plain": [
       "array([ 258.66963058,  303.99998047])"
      ]
     },
     "execution_count": 19,
     "metadata": {},
     "output_type": "execute_result"
    }
   ],
   "source": [
    "fullDist"
   ]
  },
  {
   "cell_type": "code",
   "execution_count": null,
   "metadata": {
    "collapsed": true
   },
   "outputs": [],
   "source": []
  },
  {
   "cell_type": "code",
   "execution_count": null,
   "metadata": {
    "collapsed": true
   },
   "outputs": [],
   "source": []
  },
  {
   "cell_type": "code",
   "execution_count": null,
   "metadata": {
    "collapsed": true
   },
   "outputs": [],
   "source": []
  },
  {
   "cell_type": "code",
   "execution_count": null,
   "metadata": {
    "collapsed": true
   },
   "outputs": [],
   "source": []
  },
  {
   "cell_type": "code",
   "execution_count": null,
   "metadata": {
    "collapsed": true
   },
   "outputs": [],
   "source": []
  },
  {
   "cell_type": "code",
   "execution_count": null,
   "metadata": {
    "collapsed": true
   },
   "outputs": [],
   "source": []
  },
  {
   "cell_type": "code",
   "execution_count": null,
   "metadata": {
    "collapsed": true
   },
   "outputs": [],
   "source": []
  }
 ],
 "metadata": {
  "kernelspec": {
   "display_name": "Python 3",
   "language": "python",
   "name": "python3"
  },
  "language_info": {
   "codemirror_mode": {
    "name": "ipython",
    "version": 3
   },
   "file_extension": ".py",
   "mimetype": "text/x-python",
   "name": "python",
   "nbconvert_exporter": "python",
   "pygments_lexer": "ipython3",
   "version": "3.6.3"
  }
 },
 "nbformat": 4,
 "nbformat_minor": 2
}

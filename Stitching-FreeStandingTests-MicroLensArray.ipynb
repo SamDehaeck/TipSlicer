{
 "cells": [
  {
   "cell_type": "code",
   "execution_count": 1,
   "metadata": {},
   "outputs": [
    {
     "name": "stdout",
     "output_type": "stream",
     "text": [
      "Using matplotlib backend: Qt5Agg\n",
      "Populating the interactive namespace from numpy and matplotlib\n"
     ]
    }
   ],
   "source": [
    "%pylab"
   ]
  },
  {
   "cell_type": "code",
   "execution_count": 2,
   "metadata": {
    "collapsed": true
   },
   "outputs": [],
   "source": [
    "import TipSlicer\n",
    "import cv2\n",
    "import scipy.ndimage as im\n",
    "import tables\n",
    "from importlib import reload\n",
    "import os\n",
    "import Object"
   ]
  },
  {
   "cell_type": "code",
   "execution_count": 3,
   "metadata": {},
   "outputs": [
    {
     "name": "stdout",
     "output_type": "stream",
     "text": [
      "(2000, 2000)\n"
     ]
    }
   ],
   "source": [
    "x=arange(-1000,1000,1)\n",
    "y=arange(-1000,1000,1)\n",
    "X,Y=np.meshgrid(x,y)\n",
    "print(X.shape)"
   ]
  },
  {
   "cell_type": "code",
   "execution_count": 4,
   "metadata": {
    "collapsed": true
   },
   "outputs": [],
   "source": [
    "def myFigure(X,Y,z,extras):\n",
    "    D=np.sqrt(X**2+Y**2)\n",
    "    Xp=(2-cos(D/1000*0.3*np.pi))*X\n",
    "    Yp=(2-cos(D/1000*0.3*np.pi))*Y\n",
    "    period=50\n",
    "    cut=12\n",
    "    z2=2*z\n",
    "    T1=TipSlicer.hexagonalSlice(Xp,Yp,z2,[20,period,-cut])\n",
    "    \n",
    "    Tc=T1.copy()\n",
    "    Tc=np.where(X<-1000,0,Tc)\n",
    "    Tc=np.where(X>1000,0,Tc)\n",
    "    Tc=np.where(Y<-1000,0,Tc)\n",
    "    Tc=np.where(Y>1000,0,Tc)\n",
    "    \n",
    "    border=3\n",
    "    Tc[0:border]=0\n",
    "    Tc[-border:]=0\n",
    "    Tc[:,0:border]=0\n",
    "    Tc[:,-border:]=0\n",
    "    return Tc"
   ]
  },
  {
   "cell_type": "code",
   "execution_count": 5,
   "metadata": {
    "collapsed": true
   },
   "outputs": [],
   "source": [
    "ind=0"
   ]
  },
  {
   "cell_type": "code",
   "execution_count": 6,
   "metadata": {
    "collapsed": true
   },
   "outputs": [],
   "source": [
    "T=myFigure(X,Y,ind,0)\n",
    "clf()\n",
    "imshow(T)\n",
    "title('Index {}'.format(ind))\n",
    "ind=ind+1"
   ]
  },
  {
   "cell_type": "code",
   "execution_count": 7,
   "metadata": {},
   "outputs": [
    {
     "data": {
      "text/plain": [
       "<matplotlib.image.AxesImage at 0x7efc4030b9e8>"
      ]
     },
     "execution_count": 7,
     "metadata": {},
     "output_type": "execute_result"
    }
   ],
   "source": [
    "Tc=im.binary_closing(T,iterations=10)\n",
    "imshow(Tc)"
   ]
  },
  {
   "cell_type": "code",
   "execution_count": null,
   "metadata": {
    "collapsed": true
   },
   "outputs": [],
   "source": []
  },
  {
   "cell_type": "code",
   "execution_count": 23,
   "metadata": {
    "scrolled": true
   },
   "outputs": [
    {
     "name": "stdout",
     "output_type": "stream",
     "text": [
      "Something wrong with voting, will not close image\n",
      "Something wrong with voting, will not close image\n",
      "Something wrong with voting, will not close image\n",
      "125\n",
      "CPU times: user 3min, sys: 22.5 s, total: 3min 23s\n",
      "Wall time: 3min 22s\n"
     ]
    }
   ],
   "source": [
    "%%%time\n",
    "freePs,freeLabPos,freeLabs=TipSlicer.getOptimalFreestandingStitchCentres(T,150,150,X,Y,10)\n",
    "print(len(freePs))"
   ]
  },
  {
   "cell_type": "code",
   "execution_count": 21,
   "metadata": {
    "collapsed": true
   },
   "outputs": [],
   "source": [
    "amLabs2=[len(freeLab) for freeLab in freeLabs]"
   ]
  },
  {
   "cell_type": "code",
   "execution_count": 22,
   "metadata": {
    "collapsed": true
   },
   "outputs": [],
   "source": [
    "clf()\n",
    "#plot(amLabs,'o')\n",
    "plot(amLabs2,'x')\n",
    "grid()"
   ]
  },
  {
   "cell_type": "code",
   "execution_count": 119,
   "metadata": {},
   "outputs": [
    {
     "name": "stdout",
     "output_type": "stream",
     "text": [
      "76\n"
     ]
    }
   ],
   "source": [
    "freePs=TipSlicer.getHexStitchCentres(T,150,X,Y)\n",
    "print(len(hexPos))"
   ]
  },
  {
   "cell_type": "code",
   "execution_count": 120,
   "metadata": {},
   "outputs": [
    {
     "name": "stdout",
     "output_type": "stream",
     "text": [
      "100\n"
     ]
    }
   ],
   "source": [
    "freePs=TipSlicer.getSquareStitchCentres(T,150/np.sqrt(2),X,Y)\n",
    "print(len(sqPos))"
   ]
  },
  {
   "cell_type": "code",
   "execution_count": null,
   "metadata": {
    "collapsed": true
   },
   "outputs": [],
   "source": []
  },
  {
   "cell_type": "code",
   "execution_count": 125,
   "metadata": {},
   "outputs": [
    {
     "name": "stdout",
     "output_type": "stream",
     "text": [
      "concorde -o tsp.sol blocks.tsp\n",
      "Host: ulb-UNLOCK-INSTALL  Current process id: 9926\n",
      "Using random seed 1505131356\n",
      "Problem Name: blocks\n",
      "Problem Type: TSP\n",
      "Nanoscribe Blocks in Ham Path\n",
      "Number of Nodes: 126\n",
      "Explicit Lengths (CC_MATRIXNORM)\n",
      "Set initial upperbound to 26148 (from tour)\n",
      "  LP Value  1: 26026.000000  (0.00 seconds)\n",
      "  LP Value  2: 26131.500000  (0.01 seconds)\n",
      "  LP Value  3: 26141.153846  (0.02 seconds)\n",
      "  LP Value  4: 26148.000000  (0.03 seconds)\n",
      "New lower bound: 26148.000000\n",
      "Final lower bound 26148.000000, upper bound 26148.000000\n",
      "Exact lower bound: 26148.000000\n",
      "DIFF: 0.000000\n",
      "Final LP has 159 rows, 239 columns, 990 nonzeros\n",
      "Optimal Solution: 26148.00\n",
      "Number of bbnodes: 1\n",
      "Total Running Time: 0.17 (seconds)\n",
      "CPU times: user 24 ms, sys: 12 ms, total: 36 ms\n",
      "Wall time: 307 ms\n"
     ]
    }
   ],
   "source": [
    "%%%time\n",
    "# now find optimal solution with CONCORDE and CPLEX\n",
    "TipSlicer.writeTSPfile('blocks.tsp',freePs)\n",
    "!concorde -o 'tsp.sol' 'blocks.tsp'\n",
    "Ord=TipSlicer.readTSPfile('tsp.sol')\n"
   ]
  },
  {
   "cell_type": "code",
   "execution_count": 106,
   "metadata": {},
   "outputs": [
    {
     "data": {
      "text/plain": [
       "[<matplotlib.lines.Line2D at 0x7f05707da550>]"
      ]
     },
     "execution_count": 106,
     "metadata": {},
     "output_type": "execute_result"
    }
   ],
   "source": [
    "clf()\n",
    "plot(freePs[Ord][:,0],freePs[Ord][:,1],'.-')"
   ]
  },
  {
   "cell_type": "code",
   "execution_count": null,
   "metadata": {
    "collapsed": true
   },
   "outputs": [],
   "source": [
    "# If you do not have concorde, try the nearest neighbour ordering\n",
    "Ord,NNd=TipSlicer.TSPnearest(freePs)"
   ]
  },
  {
   "cell_type": "code",
   "execution_count": null,
   "metadata": {
    "collapsed": true
   },
   "outputs": [],
   "source": []
  },
  {
   "cell_type": "code",
   "execution_count": null,
   "metadata": {
    "collapsed": true
   },
   "outputs": [],
   "source": []
  },
  {
   "cell_type": "code",
   "execution_count": 108,
   "metadata": {
    "scrolled": true
   },
   "outputs": [
    {
     "name": "stdout",
     "output_type": "stream",
     "text": [
      "Writing block 0\n",
      "Writing block 1\n",
      "Writing block 2\n",
      "Writing block 3\n",
      "Writing block 4\n",
      "Writing block 5\n",
      "Writing block 6\n",
      "Writing block 7\n",
      "Writing block 8\n",
      "Writing block 9\n",
      "Writing block 10\n",
      "Writing block 11\n",
      "Writing block 12\n",
      "Writing block 13\n",
      "Writing block 14\n",
      "Writing block 15\n",
      "Writing block 16\n",
      "Writing block 17\n",
      "Writing block 18\n",
      "Writing block 19\n",
      "Writing block 20\n",
      "Writing block 21\n",
      "Writing block 22\n",
      "Writing block 23\n",
      "Writing block 24\n",
      "Writing block 25\n",
      "Writing block 26\n",
      "Writing block 27\n",
      "Writing block 28\n",
      "Writing block 29\n",
      "Writing block 30\n",
      "Writing block 31\n",
      "Writing block 32\n",
      "Writing block 33\n",
      "Writing block 34\n",
      "Writing block 35\n",
      "Writing block 36\n",
      "Writing block 37\n",
      "Writing block 38\n",
      "Writing block 39\n",
      "Writing block 40\n",
      "Writing block 41\n",
      "Writing block 42\n",
      "Writing block 43\n",
      "Writing block 44\n",
      "Writing block 45\n",
      "Writing block 46\n",
      "Writing block 47\n",
      "Writing block 48\n",
      "Writing block 49\n",
      "Writing block 50\n",
      "Writing block 51\n",
      "Writing block 52\n",
      "Writing block 53\n",
      "Writing block 54\n",
      "Writing block 55\n",
      "Writing block 56\n",
      "Writing block 57\n",
      "Writing block 58\n",
      "Writing block 59\n",
      "Writing block 60\n",
      "Writing block 61\n",
      "Writing block 62\n",
      "Writing block 63\n",
      "Writing block 64\n",
      "Writing block 65\n",
      "Writing block 66\n",
      "Writing block 67\n",
      "Writing block 68\n",
      "Writing block 69\n",
      "Writing block 70\n",
      "Writing block 71\n",
      "Writing block 72\n",
      "Writing block 73\n",
      "Writing block 74\n",
      "Writing block 75\n",
      "Writing block 76\n",
      "Writing block 77\n",
      "Writing block 78\n",
      "Writing block 79\n",
      "Writing block 80\n",
      "Writing block 81\n",
      "Writing block 82\n",
      "Writing block 83\n",
      "Writing block 84\n",
      "Writing block 85\n",
      "Writing block 86\n",
      "Writing block 87\n",
      "Writing block 88\n",
      "Writing block 89\n",
      "Writing block 90\n",
      "Writing block 91\n",
      "Writing block 92\n",
      "Writing block 93\n",
      "Writing block 94\n",
      "Writing block 95\n",
      "Writing block 96\n",
      "Writing block 97\n",
      "Writing block 98\n",
      "Writing block 99\n",
      "Writing block 100\n",
      "Writing block 101\n",
      "Writing block 102\n",
      "Writing block 103\n",
      "Writing block 104\n",
      "Writing block 105\n",
      "Writing block 106\n",
      "Writing block 107\n",
      "Writing block 108\n",
      "Writing block 109\n",
      "Writing block 110\n",
      "Writing block 111\n",
      "Writing block 112\n",
      "Writing block 113\n",
      "Writing block 114\n",
      "Writing block 115\n",
      "Writing block 116\n",
      "Writing block 117\n",
      "Writing block 118\n",
      "Writing block 119\n",
      "Writing block 120\n",
      "Writing block 121\n",
      "Writing block 122\n",
      "Writing block 123\n",
      "Writing block 124\n"
     ]
    }
   ],
   "source": [
    "#%%%time\n",
    "# STEP 5: Write out stacks\n",
    "FovZ=45\n",
    "Fov=300\n",
    "hatching=0.5\n",
    "slicing=3\n",
    "\n",
    "amShells=2\n",
    "ScaffStep=2 # for solid infill => 2*hatching is spacing here\n",
    "hatchStep=1 # for contour distance and top-bottom infill, not used if amShells==1 and doTopBottom=False\n",
    "#CodeSpeeds=np.ones(3)*30000\n",
    "#CodeIntensities=np.ones(3)*80\n",
    "\n",
    "\n",
    "am=np.int(np.round(Fov/hatching))\n",
    "#amY=np.int(np.round(FovY/hatching))\n",
    "zz=np.arange(0,FovZ,slicing)\n",
    "\n",
    "\n",
    "dirName='MicroLensArray'\n",
    "if (not os.path.exists(dirName)):\n",
    "    os.mkdir(dirName)\n",
    "genBlockName=dirName+'/'+dirName+'Block-{:05d}.h5'\n",
    "genGwlName=dirName+'/'+dirName+'Block-{:05d}.gwl'\n",
    "genRegex=dirName+'/.+gwl'\n",
    "fullGwlName=dirName+'.gwl'\n",
    "\n",
    "#sliceIndList=np.arange(0,FovZ+slicing,slicing)\n",
    "\n",
    "#print(len(sliceIndList))\n",
    "#print(sliceIndList)\n",
    "#print(zz[sliceIndList])\n",
    "\n",
    "fullDist=[]\n",
    "allBlocks=[]\n",
    "for i in np.arange(0,len(Ord)):\n",
    "#for i in np.arange(0,10):\n",
    "    # now make coordinate systems\n",
    "    print('Writing block {}'.format(i))\n",
    "    xc=freePs[Ord][i,0]\n",
    "    yc=freePs[Ord][i,1]\n",
    "\n",
    "    xx=np.linspace(xc-Fov/2.0,xc+Fov/2.0,am)\n",
    "    yy=np.linspace(yc-Fov/2.0,yc+Fov/2.0,am)\n",
    "    Xloc,Yloc=np.meshgrid(xx,yy)\n",
    "    \n",
    "    # make the writing mask\n",
    "    seeds=TipSlicer.convertToPixels(Xloc,Yloc,freeLabPos[Ord[i]])\n",
    "    Tloc=myFigure(Xloc,Yloc,0,0)\n",
    "    MM=TipSlicer.makeFreeMaterialMatrix(Tloc,seeds)\n",
    "    \n",
    "#    MM=FormulaSlicer.makeVoronoiMask(polygon,Xloc,Yloc)\n",
    "    \n",
    "    \n",
    "    # with these coordinate systems, apply formulaToStack\n",
    "    blockName=genBlockName.format(i)\n",
    "    \n",
    "    FormulaSlicer.formulaToStack(blockName,Xloc,Yloc,zz,myFigure,extraParams=0,writingMask=MM)\n",
    "    allBlocks.append(blockName)\n",
    "    # and write the GWL's\n",
    "    #print(sliceIndList)\n",
    "    dists=TipSlicer.stackToGwl(blockName,genGwlName.format(i),amShells,ScaffStep,hatchStep\n",
    "                                   ,atAngles=-1,writeHeader=False,writeColourH5=False,doTopBottom=True)\n",
    "    if (len(dists)>0):\n",
    "        if (len(fullDist)==0):\n",
    "            fullDist=dists\n",
    "        else:\n",
    "            fullDist=fullDist+dists\n",
    "\n",
    "    \n",
    "TipSlicer.writeGwlForRegex(fullGwlName,genRegex)\n",
    "\n",
    "#writeTime=(fullDist/CodeSpeeds[:len(fullDist)]).sum()/3600.\n",
    "#print('Printing will take +- {:.2f} hours'.format(writeTime))"
   ]
  },
  {
   "cell_type": "code",
   "execution_count": 65,
   "metadata": {},
   "outputs": [
    {
     "name": "stdout",
     "output_type": "stream",
     "text": [
      "Printing will take +- 0.10 hours\n"
     ]
    }
   ],
   "source": [
    "CodeSpeeds=np.array([30000,30000,30000])\n",
    "writeTime=(fullDist/CodeSpeeds[:len(fullDist)]).sum()/3600.\n",
    "print('Printing will take +- {:.2f} hours'.format(writeTime))"
   ]
  },
  {
   "cell_type": "markdown",
   "metadata": {},
   "source": [
    "# Now do hexagonal tiling"
   ]
  },
  {
   "cell_type": "code",
   "execution_count": 34,
   "metadata": {},
   "outputs": [
    {
     "name": "stdout",
     "output_type": "stream",
     "text": [
      "76\n"
     ]
    }
   ],
   "source": [
    "hexPos=TipSlicer.getHexStitchCentres(T,150,X,Y)\n",
    "print(len(hexPos))"
   ]
  },
  {
   "cell_type": "code",
   "execution_count": 35,
   "metadata": {},
   "outputs": [
    {
     "data": {
      "image/png": "[encoded data removed]",
      "text/plain": [
       "<matplotlib.figure.Figure at 0x7f1d02490ba8>"
      ]
     },
     "metadata": {},
     "output_type": "display_data"
    }
   ],
   "source": [
    "# STEP 4: Make voronoi tesselation\n",
    "regions, vertices = TipSlicer.makeVoronoiPolygons(hexPos)\n",
    "#ffOpt=FormulaSlicer.getInfillRatio(regions,vertices,T,X,Y)\n",
    "\n",
    "# and display it\n",
    "clf()\n",
    "for region in regions:\n",
    "    polygon = vertices[region]\n",
    "    plt.fill(*zip(*polygon), alpha=0.6)\n",
    "\n",
    "plt.plot(hexPos[:,0], hexPos[:,1], 'ko')\n",
    "plt.axis('equal')\n",
    "#plt.xlim(vor.min_bound[0] - 20, vor.max_bound[0] + 20)\n",
    "#plt.ylim(vor.min_bound[1] - 20, vor.max_bound[1] + 20)\n",
    "\n",
    "plt.imshow(T,alpha=0.8,extent=(X.min(),X.max(),Y.max(),Y.min()))\n",
    "display(gcf())"
   ]
  },
  {
   "cell_type": "code",
   "execution_count": 36,
   "metadata": {},
   "outputs": [
    {
     "name": "stdout",
     "output_type": "stream",
     "text": [
      "concorde -o tsp.sol blocks.tsp\n",
      "Host: lapsam  Current process id: 23939\n",
      "Using random seed 1505152141\n",
      "Problem Name: blocks\n",
      "Problem Type: TSP\n",
      "Nanoscribe Blocks in Ham Path\n",
      "Number of Nodes: 77\n",
      "Explicit Lengths (CC_MATRIXNORM)\n",
      "Set initial upperbound to 20185 (from tour)\n",
      "  LP Value  1: 20185.000000  (0.00 seconds)\n",
      "New lower bound: 20185.000000\n",
      "Final lower bound 20185.000000, upper bound 20185.000000\n",
      "Exact lower bound: 20185.000000\n",
      "DIFF: 0.000000\n",
      "Final LP has 77 rows, 117 columns, 234 nonzeros\n",
      "Optimal Solution: 20185.00\n",
      "Number of bbnodes: 1\n",
      "Total Running Time: 0.04 (seconds)\n",
      "CPU times: user 15.2 ms, sys: 17.2 ms, total: 32.4 ms\n",
      "Wall time: 264 ms\n"
     ]
    }
   ],
   "source": [
    "%%%time\n",
    "# now find optimal solution with CONCORDE and CPLEX\n",
    "pp=hexPos\n",
    "TipSlicer.writeTSPfile('blocks.tsp',pp)\n",
    "!concorde -o 'tsp.sol' 'blocks.tsp'\n",
    "Ord=TipSlicer.readTSPfile('tsp.sol')"
   ]
  },
  {
   "cell_type": "code",
   "execution_count": 41,
   "metadata": {
    "scrolled": true
   },
   "outputs": [
    {
     "name": "stdout",
     "output_type": "stream",
     "text": [
      "Writing block 0\n",
      "Writing block 1\n",
      "Writing block 2\n",
      "Writing block 3\n",
      "Writing block 4\n",
      "Writing block 5\n",
      "Writing block 6\n",
      "Writing block 7\n",
      "Writing block 8\n",
      "Writing block 9\n",
      "Writing block 10\n",
      "Writing block 11\n",
      "Writing block 12\n",
      "Writing block 13\n",
      "Writing block 14\n",
      "Writing block 15\n",
      "Writing block 16\n",
      "Writing block 17\n",
      "Writing block 18\n",
      "Writing block 19\n",
      "Writing block 20\n",
      "Writing block 21\n",
      "Writing block 22\n",
      "Writing block 23\n",
      "Writing block 24\n",
      "Writing block 25\n",
      "Writing block 26\n",
      "Writing block 27\n",
      "Writing block 28\n",
      "Writing block 29\n",
      "Writing block 30\n",
      "Writing block 31\n",
      "Writing block 32\n",
      "Writing block 33\n",
      "Writing block 34\n",
      "Writing block 35\n",
      "Writing block 36\n",
      "Writing block 37\n",
      "Writing block 38\n",
      "Writing block 39\n",
      "Writing block 40\n",
      "Writing block 41\n",
      "Writing block 42\n",
      "Writing block 43\n",
      "Writing block 44\n",
      "Writing block 45\n",
      "Writing block 46\n",
      "Writing block 47\n",
      "Writing block 48\n",
      "Writing block 49\n",
      "Writing block 50\n",
      "Writing block 51\n",
      "Writing block 52\n",
      "Writing block 53\n",
      "Writing block 54\n",
      "Writing block 55\n",
      "Writing block 56\n",
      "Writing block 57\n",
      "Writing block 58\n",
      "Writing block 59\n",
      "Writing block 60\n",
      "Writing block 61\n",
      "Writing block 62\n",
      "Writing block 63\n",
      "Writing block 64\n",
      "Writing block 65\n",
      "Writing block 66\n",
      "Writing block 67\n",
      "Writing block 68\n",
      "Writing block 69\n",
      "Writing block 70\n",
      "Writing block 71\n",
      "Writing block 72\n",
      "Writing block 73\n",
      "Writing block 74\n",
      "Writing block 75\n"
     ]
    },
    {
     "ename": "NameError",
     "evalue": "name 'CodeSpeeds' is not defined",
     "output_type": "error",
     "traceback": [
      "\u001b[0;31m---------------------------------------------------------------------------\u001b[0m",
      "\u001b[0;31mNameError\u001b[0m                                 Traceback (most recent call last)",
      "\u001b[0;32m<ipython-input-41-2f36130ebcda>\u001b[0m in \u001b[0;36m<module>\u001b[0;34m()\u001b[0m\n\u001b[1;32m     52\u001b[0m                                    ,atAngles=-1,writeHeader=False,writeColourH5=False,doTopBottom=True)\n\u001b[1;32m     53\u001b[0m \u001b[0;34m\u001b[0m\u001b[0m\n\u001b[0;32m---> 54\u001b[0;31m \u001b[0mFormulaSlicer\u001b[0m\u001b[0;34m.\u001b[0m\u001b[0mwriteGwlForRegex\u001b[0m\u001b[0;34m(\u001b[0m\u001b[0mfullGwlName\u001b[0m\u001b[0;34m,\u001b[0m\u001b[0mgenRegex\u001b[0m\u001b[0;34m,\u001b[0m\u001b[0mCodeSpeeds\u001b[0m\u001b[0;34m,\u001b[0m\u001b[0mCodeIntensities\u001b[0m\u001b[0;34m)\u001b[0m\u001b[0;34m\u001b[0m\u001b[0m\n\u001b[0m",
      "\u001b[0;31mNameError\u001b[0m: name 'CodeSpeeds' is not defined"
     ]
    }
   ],
   "source": [
    "#%%%time\n",
    "# STEP 5: Write out stacks\n",
    "FovZ=45\n",
    "Fov=300\n",
    "hatching=0.5\n",
    "slicing=3\n",
    "\n",
    "amShells=2\n",
    "ScaffStep=2 # for solid infill => 2*hatching is spacing here\n",
    "hatchStep=1 # for contour distance and top-bottom infill, not used if amShells==1 and doTopBottom=False\n",
    "#CodeSpeeds=np.ones(3)*30000\n",
    "#CodeIntensities=np.ones(3)*80\n",
    "\n",
    "\n",
    "am=np.int(np.round(Fov/hatching))\n",
    "#amY=np.int(np.round(FovY/hatching))\n",
    "zz=np.arange(0,FovZ,slicing)\n",
    "\n",
    "\n",
    "dirName='MicroLensesHexagonal'\n",
    "if (not os.path.exists(dirName)):\n",
    "    os.mkdir(dirName)\n",
    "genBlockName=dirName+'/'+dirName+'Block-{:05d}.h5'\n",
    "genGwlName=dirName+'/'+dirName+'Block-{:05d}.gwl'\n",
    "genRegex=dirName+'/.+gwl'\n",
    "fullGwlName=dirName+'.gwl'\n",
    "\n",
    "for i in np.arange(len(Ord)):\n",
    "#for i in np.arange(10):\n",
    "    # now make coordinate systems\n",
    "    print('Writing block {}'.format(i))\n",
    "    xc=hexPos[Ord[i],0]\n",
    "    yc=hexPos[Ord[i],1]\n",
    "    polygon = vertices[regions[Ord[i]]]\n",
    "\n",
    "    xx=np.linspace(xc-Fov/2.0,xc+Fov/2.0,am)\n",
    "    yy=np.linspace(yc-Fov/2.0,yc+Fov/2.0,am)\n",
    "    Xloc,Yloc=np.meshgrid(xx,yy)\n",
    "    \n",
    "    MM=TipSlicer.makeVoronoiMask(polygon,Xloc,Yloc)\n",
    "    # if you need overlap, do binary_dilation on the mask\n",
    "    MM=im.binary_dilation(MM,iterations=2)\n",
    "    \n",
    "    # with these coordinate systems, apply formulaToStack\n",
    "    blockName=genBlockName.format(i)\n",
    "    \n",
    "    # make a formula for formulaToStack for SERPENTIN!!!\n",
    "    TipSlicer.formulaToStack(blockName,Xloc,Yloc,zz,myFigure,extraParams=0,writingMask=MM)\n",
    "    \n",
    "    # and write the GWL's\n",
    "    dists=TipSlicer.stackToGwl(blockName,genGwlName.format(i),amShells,ScaffStep,hatchStep\n",
    "                                   ,atAngles=-1,writeHeader=False,writeColourH5=False,doTopBottom=True)\n",
    "    \n",
    "TipSlicer.writeGwlForRegex(fullGwlName,genRegex)#,CodeSpeeds,CodeIntensities)"
   ]
  },
  {
   "cell_type": "code",
   "execution_count": 42,
   "metadata": {
    "collapsed": true
   },
   "outputs": [],
   "source": [
    "TipSlicer.writeGwlForRegex(fullGwlName,genRegex)"
   ]
  },
  {
   "cell_type": "code",
   "execution_count": null,
   "metadata": {
    "collapsed": true
   },
   "outputs": [],
   "source": [
    "# Try to calculate amount of stitched lenses"
   ]
  },
  {
   "cell_type": "code",
   "execution_count": null,
   "metadata": {
    "collapsed": true
   },
   "outputs": [],
   "source": []
  }
 ],
 "metadata": {
  "anaconda-cloud": {},
  "kernelspec": {
   "display_name": "Python 3",
   "language": "python",
   "name": "python3"
  },
  "language_info": {
   "codemirror_mode": {
    "name": "ipython",
    "version": 3
   },
   "file_extension": ".py",
   "mimetype": "text/x-python",
   "name": "python",
   "nbconvert_exporter": "python",
   "pygments_lexer": "ipython3",
   "version": "3.6.3"
  }
 },
 "nbformat": 4,
 "nbformat_minor": 1
}

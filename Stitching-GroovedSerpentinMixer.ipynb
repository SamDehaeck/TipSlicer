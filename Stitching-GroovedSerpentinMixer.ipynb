{
 "cells": [
  {
   "cell_type": "markdown",
   "metadata": {},
   "source": [
    "In this notebook, I will demonstrate how to write a microfluidic serpentine with TipSlicer. This serpentine is defined by a programmatic function myFigure in which the 'image' for a given height is returned. This matrix is similar to the mask that would be send to a photolithograpy printer for that layer. White means there is material, black means there isn't. The basic functions allowing to define bends and channels are defined in a separate Python file Serpentin.py. \n",
    "\n",
    "For the stitching, the different choices of algorithms as used in the 'adaptive stitching paper' are present, you of course can only use 1 of them at a time. Concorde can then be used for the toolpath planning but the nearest neighbour algorithm is available if need be. "
   ]
  },
  {
   "cell_type": "code",
   "execution_count": 1,
   "metadata": {},
   "outputs": [
    {
     "name": "stdout",
     "output_type": "stream",
     "text": [
      "Using matplotlib backend: Qt5Agg\n",
      "Populating the interactive namespace from numpy and matplotlib\n"
     ]
    }
   ],
   "source": [
    "%pylab"
   ]
  },
  {
   "cell_type": "code",
   "execution_count": 2,
   "metadata": {
    "collapsed": true
   },
   "outputs": [],
   "source": [
    "import TipSlicer\n",
    "import cv2\n",
    "import scipy.ndimage as im\n",
    "import tables\n",
    "from importlib import reload\n",
    "import os\n",
    "import Serpentin"
   ]
  },
  {
   "cell_type": "code",
   "execution_count": 3,
   "metadata": {},
   "outputs": [
    {
     "name": "stdout",
     "output_type": "stream",
     "text": [
      "(800, 3200)\n"
     ]
    }
   ],
   "source": [
    "x=arange(-8000,8000,5)\n",
    "y=arange(-2000,2000,5)\n",
    "X,Y=np.meshgrid(x,y)\n",
    "print(X.shape)"
   ]
  },
  {
   "cell_type": "code",
   "execution_count": 4,
   "metadata": {
    "collapsed": true
   },
   "outputs": [],
   "source": [
    "# here the use with a formula instead of a STL is shown\n",
    "def myFigure(X,Y,z,extraPs):\n",
    "    thick=extraPs[0]\n",
    "   \n",
    "    startX=-7500\n",
    "    startY=0\n",
    "    chanLen=2000\n",
    "    bendRad=500\n",
    "    orientation=0\n",
    "    entLen=1000\n",
    "    \n",
    "    phi=np.deg2rad(30)\n",
    "    omega=np.deg2rad(15)\n",
    "    theta=np.deg2rad(10)\n",
    "    \n",
    "    heightChannel=100\n",
    "    heightGrooves=20\n",
    "    \n",
    "    T,eX,eY,bL=Serpentin.makeSerpentin(X,Y,startX,startY,thick,entLen,chanLen,bendRad,5,0)\n",
    "    \n",
    "    if (z<=heightChannel):\n",
    "        return T\n",
    "    else:\n",
    "        if (z<=heightChannel+heightGrooves):\n",
    "            G=np.zeros(T.shape,dtype=np.uint8)\n",
    "            for bb in bL:\n",
    "                if ((bb[4]==180) and (bb[5]==360)):\n",
    "                    G=Serpentin.makeGrooves(G,bb[0],bb[1],bb[2],bb[3],phi,omega,theta,doBottom=False)\n",
    "                elif ((bb[4]==180) and (bb[5]==0)):\n",
    "                    G=Serpentin.makeGrooves(G,bb[0],bb[1],bb[2],bb[3],phi,omega,theta,doBottom=True)\n",
    "            return G\n",
    "        else:\n",
    "            return np.zeros(T.shape,dtype=np.uint8)\n",
    "    \n",
    "    \n",
    "    "
   ]
  },
  {
   "cell_type": "code",
   "execution_count": 5,
   "metadata": {
    "collapsed": true
   },
   "outputs": [],
   "source": [
    "width=108"
   ]
  },
  {
   "cell_type": "code",
   "execution_count": 6,
   "metadata": {},
   "outputs": [
    {
     "data": {
      "text/plain": [
       "<matplotlib.image.AxesImage at 0x7f67755def28>"
      ]
     },
     "execution_count": 6,
     "metadata": {},
     "output_type": "execute_result"
    }
   ],
   "source": [
    "T=myFigure(X,Y,0,[width])\n",
    "clf()\n",
    "imshow(T,cmap=cm.gray_r)\n"
   ]
  },
  {
   "cell_type": "code",
   "execution_count": 7,
   "metadata": {},
   "outputs": [
    {
     "name": "stdout",
     "output_type": "stream",
     "text": [
      "CPU times: user 58 s, sys: 3.32 s, total: 1min 1s\n",
      "Wall time: 1min 1s\n"
     ]
    }
   ],
   "source": [
    "%%%time\n",
    "optPoints=TipSlicer.getOptimalStitchCentres(T,150,150,X,Y)"
   ]
  },
  {
   "cell_type": "code",
   "execution_count": 26,
   "metadata": {
    "collapsed": true
   },
   "outputs": [],
   "source": [
    "optPoints=TipSlicer.getHexStitchCentres(T,150,X,Y)"
   ]
  },
  {
   "cell_type": "code",
   "execution_count": 28,
   "metadata": {
    "collapsed": true
   },
   "outputs": [],
   "source": [
    "optPoints=TipSlicer.getSquareStitchCentres(T,150/np.sqrt(2),X,Y)"
   ]
  },
  {
   "cell_type": "code",
   "execution_count": 12,
   "metadata": {
    "collapsed": true
   },
   "outputs": [],
   "source": [
    "optPoints=TipSlicer.getOptimalStitchCentres_Bulk(T,150,150,X,Y)"
   ]
  },
  {
   "cell_type": "code",
   "execution_count": null,
   "metadata": {
    "collapsed": true
   },
   "outputs": [],
   "source": []
  },
  {
   "cell_type": "code",
   "execution_count": 8,
   "metadata": {},
   "outputs": [
    {
     "name": "stdout",
     "output_type": "stream",
     "text": [
      "concorde -o tsp.sol blocks.tsp\n",
      "Host: lapsam  Current process id: 5710\n",
      "Using random seed 1512405971\n",
      "Problem Name: blocks\n",
      "Problem Type: TSP\n",
      "Nanoscribe Blocks in Ham Path\n",
      "Number of Nodes: 179\n",
      "Explicit Lengths (CC_MATRIXNORM)\n",
      "Set initial upperbound to 53590 (from tour)\n",
      "  LP Value  1: 53590.000000  (0.00 seconds)\n",
      "New lower bound: 53590.000000\n",
      "Final lower bound 53590.000000, upper bound 53590.000000\n",
      "Exact lower bound: 53590.000000\n",
      "DIFF: 0.000000\n",
      "Final LP has 179 rows, 285 columns, 570 nonzeros\n",
      "Optimal Solution: 53590.00\n",
      "Number of bbnodes: 1\n",
      "Total Running Time: 0.05 (seconds)\n",
      "CPU times: user 41.6 ms, sys: 9.9 ms, total: 51.5 ms\n",
      "Wall time: 205 ms\n"
     ]
    }
   ],
   "source": [
    "%%%time\n",
    "# now find optimal solution with CONCORDE and CPLEX\n",
    "pp=optPoints\n",
    "TipSlicer.writeTSPfile('blocks.tsp',pp)\n",
    "!concorde -o 'tsp.sol' 'blocks.tsp'\n",
    "Ord=TipSlicer.readTSPfile('tsp.sol')"
   ]
  },
  {
   "cell_type": "code",
   "execution_count": 9,
   "metadata": {},
   "outputs": [
    {
     "data": {
      "text/plain": [
       "[<matplotlib.lines.Line2D at 0x7f67733afe10>]"
      ]
     },
     "execution_count": 9,
     "metadata": {},
     "output_type": "execute_result"
    }
   ],
   "source": [
    "clf()\n",
    "plot(pp[Ord][:,0],pp[Ord][:,1],'o-')"
   ]
  },
  {
   "cell_type": "markdown",
   "metadata": {
    "collapsed": true
   },
   "source": [
    "If you do not have concorde, you can try the following nearest neighbour algorithm"
   ]
  },
  {
   "cell_type": "code",
   "execution_count": 55,
   "metadata": {
    "collapsed": true
   },
   "outputs": [],
   "source": [
    "Ord,NNd=TipSlicer.TSPnearest(optPoints)"
   ]
  },
  {
   "cell_type": "code",
   "execution_count": null,
   "metadata": {
    "collapsed": true
   },
   "outputs": [],
   "source": []
  },
  {
   "cell_type": "code",
   "execution_count": 10,
   "metadata": {
    "collapsed": true
   },
   "outputs": [],
   "source": [
    "pp_pix=TipSlicer.convertToPixels(X,Y,pp)"
   ]
  },
  {
   "cell_type": "code",
   "execution_count": 11,
   "metadata": {},
   "outputs": [
    {
     "data": {
      "image/png": "[encoded data removed]",
      "text/plain": [
       "<matplotlib.figure.Figure at 0x7f6776266e80>"
      ]
     },
     "metadata": {},
     "output_type": "display_data"
    }
   ],
   "source": [
    "clf()\n",
    "plot(pp_pix[Ord][:,0],pp_pix[Ord][:,1],'y-')\n",
    "#plot(pp_pix[NNp][:,0],pp_pix[NNp][:,1],'r-')\n",
    "imshow(T,cmap=cm.gray_r)\n",
    "display(gcf())"
   ]
  },
  {
   "cell_type": "code",
   "execution_count": null,
   "metadata": {
    "collapsed": true
   },
   "outputs": [],
   "source": []
  },
  {
   "cell_type": "markdown",
   "metadata": {},
   "source": [
    "# Now write to GWL"
   ]
  },
  {
   "cell_type": "code",
   "execution_count": 13,
   "metadata": {},
   "outputs": [
    {
     "data": {
      "text/plain": [
       "<module 'FormulaSlicer' from '/home/sam/ULB/Source Code/PythonScripts3/FormulaSlicer.py'>"
      ]
     },
     "execution_count": 13,
     "metadata": {},
     "output_type": "execute_result"
    }
   ],
   "source": [
    "reload(TipSlicer)"
   ]
  },
  {
   "cell_type": "code",
   "execution_count": 12,
   "metadata": {
    "collapsed": true
   },
   "outputs": [],
   "source": [
    "regions, vertices = TipSlicer.makeVoronoiPolygons(optPoints)"
   ]
  },
  {
   "cell_type": "code",
   "execution_count": 14,
   "metadata": {
    "scrolled": true
   },
   "outputs": [
    {
     "name": "stdout",
     "output_type": "stream",
     "text": [
      "Writing block 0\n",
      "Writing block 1\n",
      "Writing block 2\n",
      "Writing block 3\n",
      "Writing block 4\n"
     ]
    }
   ],
   "source": [
    "#%%%time\n",
    "# STEP 5: Write out stacks\n",
    "FovZ=120\n",
    "Fov=300\n",
    "hatching=0.5\n",
    "slicing=2\n",
    "\n",
    "amShells=10\n",
    "ScaffStep=40 # for solid infill => 2*hatching is spacing here\n",
    "hatchStep=1 # for contour distance and top-bottom infill, not used if amShells==1 and doTopBottom=False\n",
    "#CodeSpeeds=np.ones(3)*30000\n",
    "#CodeIntensities=np.ones(3)*80\n",
    "\n",
    "\n",
    "am=np.int(np.round(Fov/hatching))\n",
    "#amY=np.int(np.round(FovY/hatching))\n",
    "zz=np.arange(0,FovZ,slicing)\n",
    "\n",
    "\n",
    "dirName='GroovedSerpentin_108opt_120bis'\n",
    "if (not os.path.exists(dirName)):\n",
    "    os.mkdir(dirName)\n",
    "genBlockName=dirName+'/'+dirName+'Block-{:05d}.h5'\n",
    "genGwlName=dirName+'/'+dirName+'Block-{:05d}.gwl'\n",
    "genRegex=dirName+'/.+gwl'\n",
    "fullGwlName=dirName+'.gwl'\n",
    "distList=[]\n",
    "\n",
    "for i in np.arange(len(Ord)):\n",
    "#for i in np.arange(5):\n",
    "    # now make coordinate systems\n",
    "    print('Writing block {}'.format(i))\n",
    "    xc=optPoints[Ord[i],0]\n",
    "    yc=optPoints[Ord[i],1]\n",
    "    polygon = vertices[regions[Ord[i]]]\n",
    "\n",
    "    xx=np.linspace(xc-Fov/2.0,xc+Fov/2.0,am)\n",
    "    yy=np.linspace(yc-Fov/2.0,yc+Fov/2.0,am)\n",
    "    Xloc,Yloc=np.meshgrid(xx,yy)\n",
    "    \n",
    "    MM=TipSlicer.makeVoronoiMask(polygon,Xloc,Yloc)\n",
    "    # if you need overlap, do binary_dilation on the mask\n",
    "    MM=im.binary_dilation(MM,iterations=3)\n",
    "    \n",
    "    # with these coordinate systems, apply formulaToStack\n",
    "    blockName=genBlockName.format(i)\n",
    "    \n",
    "    TipSlicer.formulaToStack(blockName,Xloc,Yloc,zz,myFigure,extraParams=[width],writingMask=MM)\n",
    "    \n",
    "    # and write the GWL's\n",
    "    dists=TipSlicer.stackToGwl(blockName,genGwlName.format(i),amShells,ScaffStep,hatchStep\n",
    "                                   ,atAngles=-1,writeHeader=False,writeColourH5=False,doTopBottom=True)\n",
    "    try:\n",
    "        distList.append(dists)\n",
    "    except:\n",
    "        print('Could not add dist to list',dists)\n",
    "    \n",
    "TipSlicer.writeGwlForRegex(fullGwlName,genRegex)"
   ]
  },
  {
   "cell_type": "code",
   "execution_count": 16,
   "metadata": {},
   "outputs": [
    {
     "name": "stdout",
     "output_type": "stream",
     "text": [
      "[ 1053112.52704478   154062.25743299  1002478.24956602]\n"
     ]
    }
   ],
   "source": [
    "print(dists)"
   ]
  },
  {
   "cell_type": "code",
   "execution_count": 32,
   "metadata": {},
   "outputs": [
    {
     "name": "stdout",
     "output_type": "stream",
     "text": [
      "295\n"
     ]
    }
   ],
   "source": [
    "print(len(distList))"
   ]
  },
  {
   "cell_type": "code",
   "execution_count": 33,
   "metadata": {},
   "outputs": [
    {
     "name": "stdout",
     "output_type": "stream",
     "text": [
      "(295,)\n"
     ]
    }
   ],
   "source": [
    "DD=np.asarray(distList)\n",
    "print(DD.shape)"
   ]
  },
  {
   "cell_type": "code",
   "execution_count": 23,
   "metadata": {},
   "outputs": [
    {
     "name": "stdout",
     "output_type": "stream",
     "text": [
      "[  1.75325570e+08   2.53050725e+07   1.70377413e+08]\n"
     ]
    }
   ],
   "source": [
    "print(np.sum(DD,axis=0))"
   ]
  },
  {
   "cell_type": "markdown",
   "metadata": {},
   "source": [
    "# Calculating Contour length of all masks and amount of blocks"
   ]
  },
  {
   "cell_type": "code",
   "execution_count": 155,
   "metadata": {
    "collapsed": true
   },
   "outputs": [],
   "source": [
    "def calcContLength(optPoints,vertices,regions,Fov,am,myFigure,width):\n",
    "    contList=[]\n",
    "    for i in np.arange(len(optPoints)):\n",
    "    #for i in np.arange(5):\n",
    "        # now make coordinate systems\n",
    "        #print('Writing block {}'.format(i))\n",
    "        xc=optPoints[i,0]\n",
    "        yc=optPoints[i,1]\n",
    "        polygon = vertices[regions[i]]\n",
    "\n",
    "        xx=np.linspace(xc-Fov/2.0,xc+Fov/2.0,am)\n",
    "        yy=np.linspace(yc-Fov/2.0,yc+Fov/2.0,am)\n",
    "        Xloc,Yloc=np.meshgrid(xx,yy)\n",
    "\n",
    "        MM=TipSlicer.makeVoronoiMask(polygon,Xloc,Yloc)\n",
    "        # if you need overlap, do binary_dilation on the mask\n",
    "        MM=im.binary_dilation(MM,iterations=3)\n",
    "\n",
    "        T=myFigure(Xloc,Yloc,0,[width])\n",
    "        Rs=cv2.Canny((MM*T).astype(np.uint8),0.5,0.5)\n",
    "\n",
    "    #    MaskList.append(MM*T)\n",
    "        contList.append(Rs.sum())\n",
    "    #ML=np.asarray(MaskList)\n",
    "    CC=np.asarray(contList)\n",
    "    return CC.sum()"
   ]
  },
  {
   "cell_type": "code",
   "execution_count": null,
   "metadata": {
    "collapsed": true
   },
   "outputs": [],
   "source": [
    "# Now make big loop!!"
   ]
  },
  {
   "cell_type": "code",
   "execution_count": 168,
   "metadata": {
    "collapsed": true
   },
   "outputs": [],
   "source": [
    "ShellList=[]\n",
    "BlockList=[]\n",
    "Widths=np.linspace(10,700,100)\n",
    "for w in Widths:\n",
    "    T=myFigure(X,Y,0,[w])\n",
    "    optPoints=TipSlicer.getOptimalStitchCentres(T,150,150,X,Y)\n",
    "    BlockList.append(len(optPoints))\n",
    "    regions, vertices = TipSlicer.makeVoronoiPolygons(optPoints)\n",
    "    sh=calcContLength(optPoints,vertices,regions,Fov,am,myFigure,w)\n",
    "    ShellList.append(sh)\n",
    "SH_Opt=np.asarray(ShellList)\n",
    "BL_Opt=np.asarray(BlockList)"
   ]
  },
  {
   "cell_type": "code",
   "execution_count": 191,
   "metadata": {
    "collapsed": true
   },
   "outputs": [],
   "source": [
    "savetxt('Shell_Opt.txt',SH_Opt)"
   ]
  },
  {
   "cell_type": "code",
   "execution_count": 160,
   "metadata": {
    "collapsed": true
   },
   "outputs": [],
   "source": [
    "Widths=np.linspace(20,700,10)"
   ]
  },
  {
   "cell_type": "code",
   "execution_count": 161,
   "metadata": {},
   "outputs": [
    {
     "data": {
      "text/plain": [
       "[<matplotlib.lines.Line2D at 0x7f1e52918ba8>]"
      ]
     },
     "execution_count": 161,
     "metadata": {},
     "output_type": "execute_result"
    }
   ],
   "source": [
    "clf()\n",
    "plot(Widths,SH,'o')"
   ]
  },
  {
   "cell_type": "code",
   "execution_count": 166,
   "metadata": {
    "collapsed": true
   },
   "outputs": [],
   "source": [
    "ShellList=[]\n",
    "BlockList=[]\n",
    "Widths=np.linspace(10,700,100)\n",
    "for w in Widths:\n",
    "    T=myFigure(X,Y,0,[w])\n",
    "    optPoints=TipSlicer.getHexStitchCentres(T,150,X,Y)\n",
    "    BlockList.append(len(optPoints))\n",
    "    regions, vertices = TipSlicer.makeVoronoiPolygons(optPoints)\n",
    "    sh=calcContLength(optPoints,vertices,regions,Fov,am,myFigure,w)\n",
    "    ShellList.append(sh)\n",
    "SH_Hex=np.asarray(ShellList)\n",
    "BL_Hex=np.asarray(BlockList)"
   ]
  },
  {
   "cell_type": "code",
   "execution_count": 190,
   "metadata": {
    "collapsed": true
   },
   "outputs": [],
   "source": [
    "savetxt('Shell_Hex.txt',SH_Hex)"
   ]
  },
  {
   "cell_type": "code",
   "execution_count": 192,
   "metadata": {
    "collapsed": true
   },
   "outputs": [],
   "source": [
    "ShellList=[]\n",
    "BlockList=[]\n",
    "Widths=np.linspace(10,700,100)\n",
    "for w in Widths:\n",
    "    T=myFigure(X,Y,0,[w])\n",
    "    optPoints=TipSlicer.getSquareStitchCentres(T,150/np.sqrt(2),X,Y)\n",
    "    BlockList.append(len(optPoints))\n",
    "    regions, vertices = TipSlicer.makeVoronoiPolygons(optPoints)\n",
    "    sh=calcContLength(optPoints,vertices,regions,Fov,am,myFigure,w)\n",
    "    ShellList.append(sh)\n",
    "SH_Sq=np.asarray(ShellList)\n",
    "BL_Sq=np.asarray(BlockList)"
   ]
  },
  {
   "cell_type": "code",
   "execution_count": 193,
   "metadata": {
    "collapsed": true
   },
   "outputs": [],
   "source": [
    "savetxt('Shell_Sq.txt',SH_Sq)"
   ]
  },
  {
   "cell_type": "code",
   "execution_count": 194,
   "metadata": {
    "collapsed": true
   },
   "outputs": [],
   "source": [
    "ShellList=[]\n",
    "BlockList=[]\n",
    "Widths=np.linspace(10,700,100)\n",
    "for w in Widths:\n",
    "    T=myFigure(X,Y,0,[w])\n",
    "    optPoints=TipSlicer.getOptimalStitchCentres_Bulk(T,150,150,X,Y)\n",
    "    BlockList.append(len(optPoints))\n",
    "    regions, vertices = TipSlicer.makeVoronoiPolygons(optPoints)\n",
    "    sh=calcContLength(optPoints,vertices,regions,Fov,am,myFigure,w)\n",
    "    ShellList.append(sh)\n",
    "SH_Bulk=np.asarray(ShellList)\n",
    "BL_Bulk=np.asarray(BlockList)\n"
   ]
  },
  {
   "cell_type": "code",
   "execution_count": 195,
   "metadata": {
    "collapsed": true
   },
   "outputs": [],
   "source": [
    "savetxt('Shell_Bulk.txt',SH_Bulk)"
   ]
  },
  {
   "cell_type": "code",
   "execution_count": 12,
   "metadata": {
    "collapsed": true
   },
   "outputs": [],
   "source": [
    "Widths=np.linspace(10,700,100)\n",
    "hatching=0.5\n",
    "SH_Opt=np.loadtxt('Shell_Opt.txt')\n",
    "SH_Bulk=np.loadtxt('Shell_Bulk.txt')\n",
    "SH_Hex=np.loadtxt('Shell_Hex.txt')\n",
    "SH_Sq=np.loadtxt('Shell_Sq.txt')"
   ]
  },
  {
   "cell_type": "code",
   "execution_count": 15,
   "metadata": {},
   "outputs": [
    {
     "data": {
      "image/png": "[encoded data removed]",
      "text/plain": [
       "<matplotlib.figure.Figure at 0x7f3458ae5e80>"
      ]
     },
     "metadata": {},
     "output_type": "display_data"
    }
   ],
   "source": [
    "clf()\n",
    "plot(Widths,SH_Opt*hatching,'.',color='k',label='Adaptive Stitching - Edge Voting')\n",
    "plot(Widths,SH_Bulk*hatching,'.',color='r',markerfacecolor='none',label='Adaptive Stitching - Bulk Voting')\n",
    "plot(Widths,SH_Hex*hatching,'h',markerfacecolor='none',label='Hexagonal Stitching')\n",
    "plot(Widths,SH_Sq*hatching,'s',markerfacecolor='none',label='Square Stitching')\n",
    "grid()\n",
    "legend(loc=4)\n",
    "ylim(0.2e8,1.5e8)\n",
    "xlim(0,700)\n",
    "xlabel('Channel Width [µm]')\n",
    "ylabel('Contour Length [µm]')\n",
    "display(gcf())\n"
   ]
  },
  {
   "cell_type": "code",
   "execution_count": 17,
   "metadata": {},
   "outputs": [
    {
     "data": {
      "image/png": "[encoded data removed]",
      "text/plain": [
       "<matplotlib.figure.Figure at 0x7f3458ae5e80>"
      ]
     },
     "metadata": {},
     "output_type": "display_data"
    }
   ],
   "source": [
    "clf()\n",
    "plot(Widths,(SH_Hex-SH_Opt)*100/SH_Hex,'.',color='k',label='Adaptive Stitching - Edge Voting')\n",
    "plot(Widths,(SH_Hex-SH_Sq)*100/SH_Hex,'s',color='k',label='Square Stitching')\n",
    "plot(Widths,(SH_Hex-SH_Bulk)*100/SH_Hex,'h',color='k',label='Adaptive Stitching - Bulk Voting')\n",
    "ylim(-50,30)\n",
    "#plot(Widths,SH_Bulk,'.',color='r',markerfacecolor='none',label='Adaptive Stitching - Bulk Voting')\n",
    "#plot(Widths,SH_Hex*hatching,'h',markerfacecolor='none',label='Hexagonal Stitching')\n",
    "#plot(Widths,SH_Sq,'s',markerfacecolor='none',label='Square Stitching')\n",
    "grid()\n",
    "legend()\n",
    "xlabel('Channel Width [µm]')\n",
    "ylabel('Shell Length Difference [%]')\n",
    "display(gcf())"
   ]
  },
  {
   "cell_type": "code",
   "execution_count": null,
   "metadata": {
    "collapsed": true
   },
   "outputs": [],
   "source": []
  }
 ],
 "metadata": {
  "anaconda-cloud": {},
  "kernelspec": {
   "display_name": "Python 3",
   "language": "python",
   "name": "python3"
  },
  "language_info": {
   "codemirror_mode": {
    "name": "ipython",
    "version": 3
   },
   "file_extension": ".py",
   "mimetype": "text/x-python",
   "name": "python",
   "nbconvert_exporter": "python",
   "pygments_lexer": "ipython3",
   "version": "3.6.3"
  }
 },
 "nbformat": 4,
 "nbformat_minor": 1
}
